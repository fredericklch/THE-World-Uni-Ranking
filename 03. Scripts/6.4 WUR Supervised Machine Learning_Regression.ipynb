{
 "cells": [
  {
   "cell_type": "markdown",
   "id": "823b4741",
   "metadata": {},
   "source": [
    "## 6.4 Supervised Machine Learning - Regression\n",
    "\n",
    "### This script contains the following:¶\n",
    "\n",
    "### 1. Import Libraries and Data\n",
    "\n",
    "### 2. Data cleaning\n",
    "\n",
    "### 3. Data prep for regression analysis\n",
    "\n",
    "### 4. Regression Analysis¶"
   ]
  },
  {
   "cell_type": "markdown",
   "id": "ae34d9fc",
   "metadata": {},
   "source": [
    "### 1. Import libraries and Data"
   ]
  },
  {
   "cell_type": "code",
   "execution_count": 1,
   "id": "12208781",
   "metadata": {},
   "outputs": [],
   "source": [
    "import pandas as pd\n",
    "import numpy as np\n",
    "import seaborn as sns\n",
    "import matplotlib\n",
    "import matplotlib.pyplot as plt\n",
    "import os\n",
    "import sklearn\n",
    "from sklearn.model_selection import train_test_split \n",
    "from sklearn.linear_model import LinearRegression\n",
    "from sklearn.metrics import mean_squared_error, r2_score"
   ]
  },
  {
   "cell_type": "code",
   "execution_count": 2,
   "id": "142db830",
   "metadata": {},
   "outputs": [],
   "source": [
    "# Ensure the graphs are displayed within the notebook without the need to \"call\" them specifically.\n",
    "\n",
    "%matplotlib inline"
   ]
  },
  {
   "cell_type": "code",
   "execution_count": 3,
   "id": "e90dc479",
   "metadata": {},
   "outputs": [],
   "source": [
    "# Create path\n",
    "\n",
    "path = r'C:\\Users\\Frederick\\Documents\\17-12-2023 World University Rankings'"
   ]
  },
  {
   "cell_type": "code",
   "execution_count": 4,
   "id": "6f481600",
   "metadata": {},
   "outputs": [],
   "source": [
    "# Import data for time ranking\n",
    "\n",
    "the = pd.read_csv(os.path.join(path, '02. Data', 'Prepared Data', 'times.csv'), index_col = False)"
   ]
  },
  {
   "cell_type": "code",
   "execution_count": 5,
   "id": "d6d541fa",
   "metadata": {},
   "outputs": [],
   "source": [
    "# Import data for shanghai ranking\n",
    "\n",
    "shanghai = pd.read_csv(os.path.join(path, '02. Data', 'Prepared Data', 'shanghai.csv'), index_col = False)"
   ]
  },
  {
   "cell_type": "code",
   "execution_count": 6,
   "id": "483973f8",
   "metadata": {},
   "outputs": [],
   "source": [
    "# Import data for cwur ranking\n",
    "\n",
    "cwur = pd.read_csv(os.path.join(path, '02. Data', 'Prepared Data', 'cwur.csv'), index_col = False)"
   ]
  },
  {
   "cell_type": "markdown",
   "id": "0f65f25b",
   "metadata": {},
   "source": [
    "### 2. Data cleaning"
   ]
  },
  {
   "cell_type": "markdown",
   "id": "69c05983",
   "metadata": {},
   "source": [
    "### For this exercise, I will look at linear regression on the three ranking bodies. Specifically, how the total scores (y value) will change given the change in one of the strongest correlated variable. From previous exercise, I know that:\n",
    "\n",
    "### Times ranking - the total scores are blank for universities ranking above 200, therefore these will be removed. \n",
    "\n",
    "### Shanghai ranking - the total scores are blank for universities ranking above 100, therefore these will be removed. \n",
    "\n",
    "### CWUR ranking - the total scores are complete but some of the variables have missing values, and the universities ranking is up to 1000 for later years.  I will include all of them first for the regression analysis and see the result. "
   ]
  },
  {
   "cell_type": "code",
   "execution_count": 7,
   "id": "c7977c1e",
   "metadata": {},
   "outputs": [
    {
     "data": {
      "text/plain": [
       "(2603, 14)"
      ]
     },
     "execution_count": 7,
     "metadata": {},
     "output_type": "execute_result"
    }
   ],
   "source": [
    "the.shape"
   ]
  },
  {
   "cell_type": "code",
   "execution_count": 8,
   "id": "54acc366",
   "metadata": {},
   "outputs": [
    {
     "data": {
      "text/plain": [
       "Unnamed: 0                   0\n",
       "world_rank                   0\n",
       "university_name              0\n",
       "country                      0\n",
       "teaching                     0\n",
       "international                9\n",
       "research                     0\n",
       "citations                    0\n",
       "income                     218\n",
       "total_score               1402\n",
       "num_students                59\n",
       "student_staff_ratio         59\n",
       "international_students      67\n",
       "year                         0\n",
       "dtype: int64"
      ]
     },
     "execution_count": 8,
     "metadata": {},
     "output_type": "execute_result"
    }
   ],
   "source": [
    "# Checking for missing values in times ranking dataframe\n",
    "\n",
    "the.isnull().sum() # All missing values in total score will be removed. "
   ]
  },
  {
   "cell_type": "code",
   "execution_count": 9,
   "id": "8efc9303",
   "metadata": {},
   "outputs": [],
   "source": [
    "# Creating a subset in without missing total scores in times dataframe \n",
    "\n",
    "the_sub = the[the['total_score'].isnull() == False]"
   ]
  },
  {
   "cell_type": "code",
   "execution_count": 10,
   "id": "66b5cdcf",
   "metadata": {},
   "outputs": [
    {
     "data": {
      "text/plain": [
       "(1201, 14)"
      ]
     },
     "execution_count": 10,
     "metadata": {},
     "output_type": "execute_result"
    }
   ],
   "source": [
    "# Checking output of the times subset\n",
    "\n",
    "the_sub.shape # Count is correct after removing missing total scores"
   ]
  },
  {
   "cell_type": "code",
   "execution_count": 11,
   "id": "9466f1cb",
   "metadata": {},
   "outputs": [
    {
     "data": {
      "text/plain": [
       "Unnamed: 0                  int64\n",
       "world_rank                 object\n",
       "university_name            object\n",
       "country                    object\n",
       "teaching                  float64\n",
       "international             float64\n",
       "research                  float64\n",
       "citations                 float64\n",
       "income                    float64\n",
       "total_score               float64\n",
       "num_students              float64\n",
       "student_staff_ratio       float64\n",
       "international_students     object\n",
       "year                        int64\n",
       "dtype: object"
      ]
     },
     "execution_count": 11,
     "metadata": {},
     "output_type": "execute_result"
    }
   ],
   "source": [
    "the_sub.dtypes # From previous exercise, the strongest variable is research variable (0.90 coefficient)"
   ]
  },
  {
   "cell_type": "code",
   "execution_count": 12,
   "id": "14fc7ec2",
   "metadata": {},
   "outputs": [
    {
     "name": "stderr",
     "output_type": "stream",
     "text": [
      "C:\\Users\\Frederick\\AppData\\Local\\Temp\\ipykernel_26768\\210613555.py:3: SettingWithCopyWarning: \n",
      "A value is trying to be set on a copy of a slice from a DataFrame\n",
      "\n",
      "See the caveats in the documentation: https://pandas.pydata.org/pandas-docs/stable/user_guide/indexing.html#returning-a-view-versus-a-copy\n",
      "  the_sub.rename(columns = {'total_score' : 'scores'}, inplace = True)\n"
     ]
    }
   ],
   "source": [
    "# Renaming column name\n",
    "\n",
    "the_sub.rename(columns = {'total_score' : 'scores'}, inplace = True)"
   ]
  },
  {
   "cell_type": "code",
   "execution_count": 13,
   "id": "438ee02c",
   "metadata": {},
   "outputs": [
    {
     "data": {
      "text/plain": [
       "Unnamed: 0                  0\n",
       "world_rank                  0\n",
       "university_name             0\n",
       "country                     0\n",
       "teaching                    0\n",
       "international               9\n",
       "research                    0\n",
       "citations                   0\n",
       "income                    140\n",
       "scores                      0\n",
       "num_students               19\n",
       "student_staff_ratio        19\n",
       "international_students     20\n",
       "year                        0\n",
       "dtype: int64"
      ]
     },
     "execution_count": 13,
     "metadata": {},
     "output_type": "execute_result"
    }
   ],
   "source": [
    "# Checking for missing values in times ranking subset\n",
    "\n",
    "the_sub.isnull().sum() # Some missing values in income and other variables, but not in total scores and research. "
   ]
  },
  {
   "cell_type": "code",
   "execution_count": 14,
   "id": "ca5fd62d",
   "metadata": {},
   "outputs": [
    {
     "data": {
      "text/plain": [
       "(4896, 13)"
      ]
     },
     "execution_count": 14,
     "metadata": {},
     "output_type": "execute_result"
    }
   ],
   "source": [
    "shanghai.shape"
   ]
  },
  {
   "cell_type": "code",
   "execution_count": 15,
   "id": "ca5bc097",
   "metadata": {},
   "outputs": [
    {
     "data": {
      "text/plain": [
       "Unnamed: 0             0\n",
       "world_rank             0\n",
       "university_name        0\n",
       "country             1490\n",
       "national_rank          0\n",
       "total_score         3795\n",
       "alumni                 0\n",
       "award                  1\n",
       "cited_research         1\n",
       "articles              21\n",
       "science_citation       1\n",
       "capita                 1\n",
       "year                   0\n",
       "dtype: int64"
      ]
     },
     "execution_count": 15,
     "metadata": {},
     "output_type": "execute_result"
    }
   ],
   "source": [
    "# Checking for missing values in shanghai ranking dataframe\n",
    "\n",
    "shanghai.isnull().sum() # All missing values in total score will be removed. "
   ]
  },
  {
   "cell_type": "code",
   "execution_count": 16,
   "id": "e8c5b4c8",
   "metadata": {},
   "outputs": [],
   "source": [
    "# Creating a subset in without missing total scores in shanghai dataframe \n",
    "\n",
    "shanghai_sub = shanghai[shanghai['total_score'].isnull() == False]"
   ]
  },
  {
   "cell_type": "code",
   "execution_count": 17,
   "id": "4378deba",
   "metadata": {},
   "outputs": [
    {
     "data": {
      "text/plain": [
       "(1101, 13)"
      ]
     },
     "execution_count": 17,
     "metadata": {},
     "output_type": "execute_result"
    }
   ],
   "source": [
    "# Checking output of the times subset\n",
    "\n",
    "shanghai_sub.shape # Count is correct after removing missing total scores"
   ]
  },
  {
   "cell_type": "code",
   "execution_count": 18,
   "id": "631df989",
   "metadata": {},
   "outputs": [
    {
     "data": {
      "text/plain": [
       "Unnamed: 0            int64\n",
       "world_rank           object\n",
       "university_name      object\n",
       "country              object\n",
       "national_rank        object\n",
       "total_score         float64\n",
       "alumni              float64\n",
       "award               float64\n",
       "cited_research      float64\n",
       "articles            float64\n",
       "science_citation    float64\n",
       "capita              float64\n",
       "year                  int64\n",
       "dtype: object"
      ]
     },
     "execution_count": 18,
     "metadata": {},
     "output_type": "execute_result"
    }
   ],
   "source": [
    "shanghai_sub.dtypes # From previous exercise, the strongest variable is papers published (i.e. articles variable) (0.93 coefficient)"
   ]
  },
  {
   "cell_type": "code",
   "execution_count": 19,
   "id": "09217392",
   "metadata": {},
   "outputs": [
    {
     "name": "stderr",
     "output_type": "stream",
     "text": [
      "C:\\Users\\Frederick\\AppData\\Local\\Temp\\ipykernel_26768\\3047124042.py:3: SettingWithCopyWarning: \n",
      "A value is trying to be set on a copy of a slice from a DataFrame\n",
      "\n",
      "See the caveats in the documentation: https://pandas.pydata.org/pandas-docs/stable/user_guide/indexing.html#returning-a-view-versus-a-copy\n",
      "  shanghai_sub.rename(columns = {'total_score' : 'scores', 'articles' : 'papers published'}, inplace = True)\n"
     ]
    }
   ],
   "source": [
    "# Renaming column name\n",
    "\n",
    "shanghai_sub.rename(columns = {'total_score' : 'scores', 'articles' : 'papers published'}, inplace = True)"
   ]
  },
  {
   "cell_type": "code",
   "execution_count": 20,
   "id": "1749974c",
   "metadata": {},
   "outputs": [
    {
     "data": {
      "text/plain": [
       "Unnamed: 0          0\n",
       "world_rank          0\n",
       "university_name     0\n",
       "country             0\n",
       "national_rank       0\n",
       "scores              0\n",
       "alumni              0\n",
       "award               0\n",
       "cited_research      0\n",
       "papers published    0\n",
       "science_citation    0\n",
       "capita              0\n",
       "year                0\n",
       "dtype: int64"
      ]
     },
     "execution_count": 20,
     "metadata": {},
     "output_type": "execute_result"
    }
   ],
   "source": [
    "# Checking for missing values in shanghai ranking subset\n",
    "\n",
    "shanghai_sub.isnull().sum() # No more missing values in the subset!"
   ]
  },
  {
   "cell_type": "code",
   "execution_count": 21,
   "id": "4b543e35",
   "metadata": {},
   "outputs": [
    {
     "data": {
      "text/plain": [
       "(2200, 15)"
      ]
     },
     "execution_count": 21,
     "metadata": {},
     "output_type": "execute_result"
    }
   ],
   "source": [
    "cwur.shape"
   ]
  },
  {
   "cell_type": "code",
   "execution_count": 22,
   "id": "5904b44c",
   "metadata": {},
   "outputs": [
    {
     "data": {
      "text/plain": [
       "Unnamed: 0                0\n",
       "world_rank                0\n",
       "university_name           0\n",
       "country                   0\n",
       "national_rank             0\n",
       "quality_of_education      0\n",
       "alumni_employment         0\n",
       "quality_of_faculty        0\n",
       "publications              0\n",
       "influence                 0\n",
       "citations                 0\n",
       "broad_impact            200\n",
       "patents                   0\n",
       "score                     0\n",
       "year                      0\n",
       "dtype: int64"
      ]
     },
     "execution_count": 22,
     "metadata": {},
     "output_type": "execute_result"
    }
   ],
   "source": [
    "# Checking for missing values in cwur ranking dataframe\n",
    "\n",
    "cwur.isnull().sum() # No missing value in score. Missing value in broad_impact but this variable won't be used.  "
   ]
  },
  {
   "cell_type": "code",
   "execution_count": 23,
   "id": "1136b103",
   "metadata": {},
   "outputs": [
    {
     "data": {
      "text/plain": [
       "Unnamed: 0                int64\n",
       "world_rank                int64\n",
       "university_name          object\n",
       "country                  object\n",
       "national_rank             int64\n",
       "quality_of_education      int64\n",
       "alumni_employment         int64\n",
       "quality_of_faculty        int64\n",
       "publications              int64\n",
       "influence                 int64\n",
       "citations                 int64\n",
       "broad_impact            float64\n",
       "patents                   int64\n",
       "score                   float64\n",
       "year                      int64\n",
       "dtype: object"
      ]
     },
     "execution_count": 23,
     "metadata": {},
     "output_type": "execute_result"
    }
   ],
   "source": [
    "cwur.dtypes # From previous exercise, the strongest variable is staff award - quality of education variable (-0.69 coefficient)"
   ]
  },
  {
   "cell_type": "code",
   "execution_count": 24,
   "id": "17132082",
   "metadata": {},
   "outputs": [],
   "source": [
    "# Renaming column names\n",
    "\n",
    "cwur.rename(columns = {'score' : 'scores', 'quality_of_education' : 'staff award'}, inplace = True)"
   ]
  },
  {
   "cell_type": "code",
   "execution_count": 25,
   "id": "9621efaf",
   "metadata": {},
   "outputs": [],
   "source": [
    "# Checking duplicates in times subset\n",
    "\n",
    "the_dups = the_sub.duplicated()"
   ]
  },
  {
   "cell_type": "code",
   "execution_count": 26,
   "id": "0a7af332",
   "metadata": {},
   "outputs": [
    {
     "data": {
      "text/plain": [
       "(1201,)"
      ]
     },
     "execution_count": 26,
     "metadata": {},
     "output_type": "execute_result"
    }
   ],
   "source": [
    "the_dups.shape # No duplicates"
   ]
  },
  {
   "cell_type": "code",
   "execution_count": 27,
   "id": "b3888a3e",
   "metadata": {},
   "outputs": [],
   "source": [
    "# Checking duplicates in shanghai subset\n",
    "\n",
    "shanghai_dups = shanghai_sub.duplicated()"
   ]
  },
  {
   "cell_type": "code",
   "execution_count": 28,
   "id": "a3788150",
   "metadata": {},
   "outputs": [
    {
     "data": {
      "text/plain": [
       "(1101,)"
      ]
     },
     "execution_count": 28,
     "metadata": {},
     "output_type": "execute_result"
    }
   ],
   "source": [
    "shanghai_dups.shape # No cuplicates"
   ]
  },
  {
   "cell_type": "code",
   "execution_count": 29,
   "id": "c7cf4f7e",
   "metadata": {},
   "outputs": [],
   "source": [
    "# Checking duplicates in cwur subset\n",
    "\n",
    "cwur_dups = cwur.duplicated()"
   ]
  },
  {
   "cell_type": "code",
   "execution_count": 30,
   "id": "4e8bc1e8",
   "metadata": {},
   "outputs": [
    {
     "data": {
      "text/plain": [
       "(2200,)"
      ]
     },
     "execution_count": 30,
     "metadata": {},
     "output_type": "execute_result"
    }
   ],
   "source": [
    "cwur_dups.shape # No duplicates"
   ]
  },
  {
   "cell_type": "code",
   "execution_count": 31,
   "id": "6cc07680",
   "metadata": {},
   "outputs": [
    {
     "name": "stderr",
     "output_type": "stream",
     "text": [
      "C:\\Users\\Frederick\\AppData\\Local\\Temp\\ipykernel_26768\\3377674724.py:1: UserWarning: \n",
      "\n",
      "`distplot` is a deprecated function and will be removed in seaborn v0.14.0.\n",
      "\n",
      "Please adapt your code to use either `displot` (a figure-level function with\n",
      "similar flexibility) or `histplot` (an axes-level function for histograms).\n",
      "\n",
      "For a guide to updating your code to use the new functions, please see\n",
      "https://gist.github.com/mwaskom/de44147ed2974457ad6372750bbe5751\n",
      "\n",
      "  sns.distplot(the_sub['scores'], bins=25) # Shows extreme values for times ranking subset\n",
      "C:\\Users\\Frederick\\anaconda3\\Lib\\site-packages\\seaborn\\_oldcore.py:1498: FutureWarning: is_categorical_dtype is deprecated and will be removed in a future version. Use isinstance(dtype, CategoricalDtype) instead\n",
      "  if pd.api.types.is_categorical_dtype(vector):\n",
      "C:\\Users\\Frederick\\anaconda3\\Lib\\site-packages\\seaborn\\_oldcore.py:1119: FutureWarning: use_inf_as_na option is deprecated and will be removed in a future version. Convert inf values to NaN before operating instead.\n",
      "  with pd.option_context('mode.use_inf_as_na', True):\n"
     ]
    },
    {
     "data": {
      "text/plain": [
       "<Axes: xlabel='scores', ylabel='Density'>"
      ]
     },
     "execution_count": 31,
     "metadata": {},
     "output_type": "execute_result"
    },
    {
     "data": {
      "image/png": "[encoded data removed]",
      "text/plain": [
       "<Figure size 640x480 with 1 Axes>"
      ]
     },
     "metadata": {},
     "output_type": "display_data"
    }
   ],
   "source": [
    "sns.distplot(the_sub['scores'], bins=25) # Shows extreme values for times ranking subset\n",
    "\n",
    "# score range is fixed between 0 to 100, no extreme values. "
   ]
  },
  {
   "cell_type": "code",
   "execution_count": 32,
   "id": "88ad3b01",
   "metadata": {},
   "outputs": [
    {
     "name": "stderr",
     "output_type": "stream",
     "text": [
      "C:\\Users\\Frederick\\AppData\\Local\\Temp\\ipykernel_26768\\3274985665.py:1: UserWarning: \n",
      "\n",
      "`distplot` is a deprecated function and will be removed in seaborn v0.14.0.\n",
      "\n",
      "Please adapt your code to use either `displot` (a figure-level function with\n",
      "similar flexibility) or `histplot` (an axes-level function for histograms).\n",
      "\n",
      "For a guide to updating your code to use the new functions, please see\n",
      "https://gist.github.com/mwaskom/de44147ed2974457ad6372750bbe5751\n",
      "\n",
      "  sns.distplot(shanghai_sub['scores'], bins=25) # Shows extreme values for shanghai ranking subset\n",
      "C:\\Users\\Frederick\\anaconda3\\Lib\\site-packages\\seaborn\\_oldcore.py:1498: FutureWarning: is_categorical_dtype is deprecated and will be removed in a future version. Use isinstance(dtype, CategoricalDtype) instead\n",
      "  if pd.api.types.is_categorical_dtype(vector):\n",
      "C:\\Users\\Frederick\\anaconda3\\Lib\\site-packages\\seaborn\\_oldcore.py:1119: FutureWarning: use_inf_as_na option is deprecated and will be removed in a future version. Convert inf values to NaN before operating instead.\n",
      "  with pd.option_context('mode.use_inf_as_na', True):\n"
     ]
    },
    {
     "data": {
      "text/plain": [
       "<Axes: xlabel='scores', ylabel='Density'>"
      ]
     },
     "execution_count": 32,
     "metadata": {},
     "output_type": "execute_result"
    },
    {
     "data": {
      "image/png": "[encoded data removed]",
      "text/plain": [
       "<Figure size 640x480 with 1 Axes>"
      ]
     },
     "metadata": {},
     "output_type": "display_data"
    }
   ],
   "source": [
    "sns.distplot(shanghai_sub['scores'], bins=25) # Shows extreme values for shanghai ranking subset\n",
    "\n",
    "# score range is fixed between 0 to 100. However, distribution of scores show no value between 75 to 90s, and then data point at 100. Keep it in at the moment, and might try removing it later.   "
   ]
  },
  {
   "cell_type": "code",
   "execution_count": 33,
   "id": "37fa1e7e",
   "metadata": {},
   "outputs": [
    {
     "name": "stderr",
     "output_type": "stream",
     "text": [
      "C:\\Users\\Frederick\\AppData\\Local\\Temp\\ipykernel_26768\\305621952.py:1: UserWarning: \n",
      "\n",
      "`distplot` is a deprecated function and will be removed in seaborn v0.14.0.\n",
      "\n",
      "Please adapt your code to use either `displot` (a figure-level function with\n",
      "similar flexibility) or `histplot` (an axes-level function for histograms).\n",
      "\n",
      "For a guide to updating your code to use the new functions, please see\n",
      "https://gist.github.com/mwaskom/de44147ed2974457ad6372750bbe5751\n",
      "\n",
      "  sns.distplot(cwur['scores'], bins=25) # Shows extreme values for cwur ranking dataframe\n",
      "C:\\Users\\Frederick\\anaconda3\\Lib\\site-packages\\seaborn\\_oldcore.py:1498: FutureWarning: is_categorical_dtype is deprecated and will be removed in a future version. Use isinstance(dtype, CategoricalDtype) instead\n",
      "  if pd.api.types.is_categorical_dtype(vector):\n",
      "C:\\Users\\Frederick\\anaconda3\\Lib\\site-packages\\seaborn\\_oldcore.py:1119: FutureWarning: use_inf_as_na option is deprecated and will be removed in a future version. Convert inf values to NaN before operating instead.\n",
      "  with pd.option_context('mode.use_inf_as_na', True):\n"
     ]
    },
    {
     "data": {
      "text/plain": [
       "<Axes: xlabel='scores', ylabel='Density'>"
      ]
     },
     "execution_count": 33,
     "metadata": {},
     "output_type": "execute_result"
    },
    {
     "data": {
      "image/png": "[encoded data removed]",
      "text/plain": [
       "<Figure size 640x480 with 1 Axes>"
      ]
     },
     "metadata": {},
     "output_type": "display_data"
    }
   ],
   "source": [
    "sns.distplot(cwur['scores'], bins=25) # Shows extreme values for cwur ranking dataframe\n",
    "\n",
    "# score range is fixed between 0 to 100. However, distribution of scores is skewed to the right, meaning that most of the scores gathered on the left (between 40 top 50)!"
   ]
  },
  {
   "cell_type": "code",
   "execution_count": 34,
   "id": "59e34f4b",
   "metadata": {},
   "outputs": [
    {
     "data": {
      "text/html": [
       "<div>\n",
       "<style scoped>\n",
       "    .dataframe tbody tr th:only-of-type {\n",
       "        vertical-align: middle;\n",
       "    }\n",
       "\n",
       "    .dataframe tbody tr th {\n",
       "        vertical-align: top;\n",
       "    }\n",
       "\n",
       "    .dataframe thead th {\n",
       "        text-align: right;\n",
       "    }\n",
       "</style>\n",
       "<table border=\"1\" class=\"dataframe\">\n",
       "  <thead>\n",
       "    <tr style=\"text-align: right;\">\n",
       "      <th></th>\n",
       "      <th>Unnamed: 0</th>\n",
       "      <th>world_rank</th>\n",
       "      <th>national_rank</th>\n",
       "      <th>staff award</th>\n",
       "      <th>alumni_employment</th>\n",
       "      <th>quality_of_faculty</th>\n",
       "      <th>publications</th>\n",
       "      <th>influence</th>\n",
       "      <th>citations</th>\n",
       "      <th>broad_impact</th>\n",
       "      <th>patents</th>\n",
       "      <th>scores</th>\n",
       "      <th>year</th>\n",
       "    </tr>\n",
       "  </thead>\n",
       "  <tbody>\n",
       "    <tr>\n",
       "      <th>count</th>\n",
       "      <td>2200.000000</td>\n",
       "      <td>2200.000000</td>\n",
       "      <td>2200.000000</td>\n",
       "      <td>2200.000000</td>\n",
       "      <td>2200.000000</td>\n",
       "      <td>2200.000000</td>\n",
       "      <td>2200.000000</td>\n",
       "      <td>2200.000000</td>\n",
       "      <td>2200.000000</td>\n",
       "      <td>2000.000000</td>\n",
       "      <td>2200.000000</td>\n",
       "      <td>2200.000000</td>\n",
       "      <td>2200.000000</td>\n",
       "    </tr>\n",
       "    <tr>\n",
       "      <th>mean</th>\n",
       "      <td>1099.500000</td>\n",
       "      <td>459.590909</td>\n",
       "      <td>40.278182</td>\n",
       "      <td>275.100455</td>\n",
       "      <td>357.116818</td>\n",
       "      <td>178.888182</td>\n",
       "      <td>459.908636</td>\n",
       "      <td>459.797727</td>\n",
       "      <td>413.417273</td>\n",
       "      <td>496.699500</td>\n",
       "      <td>433.346364</td>\n",
       "      <td>47.798395</td>\n",
       "      <td>2014.318182</td>\n",
       "    </tr>\n",
       "    <tr>\n",
       "      <th>std</th>\n",
       "      <td>635.229617</td>\n",
       "      <td>304.320363</td>\n",
       "      <td>51.740870</td>\n",
       "      <td>121.935100</td>\n",
       "      <td>186.779252</td>\n",
       "      <td>64.050885</td>\n",
       "      <td>303.760352</td>\n",
       "      <td>303.331822</td>\n",
       "      <td>264.366549</td>\n",
       "      <td>286.919755</td>\n",
       "      <td>273.996525</td>\n",
       "      <td>7.760806</td>\n",
       "      <td>0.762130</td>\n",
       "    </tr>\n",
       "    <tr>\n",
       "      <th>min</th>\n",
       "      <td>0.000000</td>\n",
       "      <td>1.000000</td>\n",
       "      <td>1.000000</td>\n",
       "      <td>1.000000</td>\n",
       "      <td>1.000000</td>\n",
       "      <td>1.000000</td>\n",
       "      <td>1.000000</td>\n",
       "      <td>1.000000</td>\n",
       "      <td>1.000000</td>\n",
       "      <td>1.000000</td>\n",
       "      <td>1.000000</td>\n",
       "      <td>43.360000</td>\n",
       "      <td>2012.000000</td>\n",
       "    </tr>\n",
       "    <tr>\n",
       "      <th>25%</th>\n",
       "      <td>549.750000</td>\n",
       "      <td>175.750000</td>\n",
       "      <td>6.000000</td>\n",
       "      <td>175.750000</td>\n",
       "      <td>175.750000</td>\n",
       "      <td>175.750000</td>\n",
       "      <td>175.750000</td>\n",
       "      <td>175.750000</td>\n",
       "      <td>161.000000</td>\n",
       "      <td>250.500000</td>\n",
       "      <td>170.750000</td>\n",
       "      <td>44.460000</td>\n",
       "      <td>2014.000000</td>\n",
       "    </tr>\n",
       "    <tr>\n",
       "      <th>50%</th>\n",
       "      <td>1099.500000</td>\n",
       "      <td>450.500000</td>\n",
       "      <td>21.000000</td>\n",
       "      <td>355.000000</td>\n",
       "      <td>450.500000</td>\n",
       "      <td>210.000000</td>\n",
       "      <td>450.500000</td>\n",
       "      <td>450.500000</td>\n",
       "      <td>406.000000</td>\n",
       "      <td>496.000000</td>\n",
       "      <td>426.000000</td>\n",
       "      <td>45.100000</td>\n",
       "      <td>2014.000000</td>\n",
       "    </tr>\n",
       "    <tr>\n",
       "      <th>75%</th>\n",
       "      <td>1649.250000</td>\n",
       "      <td>725.250000</td>\n",
       "      <td>49.000000</td>\n",
       "      <td>367.000000</td>\n",
       "      <td>478.000000</td>\n",
       "      <td>218.000000</td>\n",
       "      <td>725.000000</td>\n",
       "      <td>725.250000</td>\n",
       "      <td>645.000000</td>\n",
       "      <td>741.000000</td>\n",
       "      <td>714.250000</td>\n",
       "      <td>47.545000</td>\n",
       "      <td>2015.000000</td>\n",
       "    </tr>\n",
       "    <tr>\n",
       "      <th>max</th>\n",
       "      <td>2199.000000</td>\n",
       "      <td>1000.000000</td>\n",
       "      <td>229.000000</td>\n",
       "      <td>367.000000</td>\n",
       "      <td>567.000000</td>\n",
       "      <td>218.000000</td>\n",
       "      <td>1000.000000</td>\n",
       "      <td>991.000000</td>\n",
       "      <td>812.000000</td>\n",
       "      <td>1000.000000</td>\n",
       "      <td>871.000000</td>\n",
       "      <td>100.000000</td>\n",
       "      <td>2015.000000</td>\n",
       "    </tr>\n",
       "  </tbody>\n",
       "</table>\n",
       "</div>"
      ],
      "text/plain": [
       "        Unnamed: 0   world_rank  national_rank  staff award  \\\n",
       "count  2200.000000  2200.000000    2200.000000  2200.000000   \n",
       "mean   1099.500000   459.590909      40.278182   275.100455   \n",
       "std     635.229617   304.320363      51.740870   121.935100   \n",
       "min       0.000000     1.000000       1.000000     1.000000   \n",
       "25%     549.750000   175.750000       6.000000   175.750000   \n",
       "50%    1099.500000   450.500000      21.000000   355.000000   \n",
       "75%    1649.250000   725.250000      49.000000   367.000000   \n",
       "max    2199.000000  1000.000000     229.000000   367.000000   \n",
       "\n",
       "       alumni_employment  quality_of_faculty  publications    influence  \\\n",
       "count        2200.000000         2200.000000   2200.000000  2200.000000   \n",
       "mean          357.116818          178.888182    459.908636   459.797727   \n",
       "std           186.779252           64.050885    303.760352   303.331822   \n",
       "min             1.000000            1.000000      1.000000     1.000000   \n",
       "25%           175.750000          175.750000    175.750000   175.750000   \n",
       "50%           450.500000          210.000000    450.500000   450.500000   \n",
       "75%           478.000000          218.000000    725.000000   725.250000   \n",
       "max           567.000000          218.000000   1000.000000   991.000000   \n",
       "\n",
       "         citations  broad_impact      patents       scores         year  \n",
       "count  2200.000000   2000.000000  2200.000000  2200.000000  2200.000000  \n",
       "mean    413.417273    496.699500   433.346364    47.798395  2014.318182  \n",
       "std     264.366549    286.919755   273.996525     7.760806     0.762130  \n",
       "min       1.000000      1.000000     1.000000    43.360000  2012.000000  \n",
       "25%     161.000000    250.500000   170.750000    44.460000  2014.000000  \n",
       "50%     406.000000    496.000000   426.000000    45.100000  2014.000000  \n",
       "75%     645.000000    741.000000   714.250000    47.545000  2015.000000  \n",
       "max     812.000000   1000.000000   871.000000   100.000000  2015.000000  "
      ]
     },
     "execution_count": 34,
     "metadata": {},
     "output_type": "execute_result"
    }
   ],
   "source": [
    "cwur.describe() # Mean and median total scores both between 40 to 50, even at 75% still between 40 to 50. But Max is 100, indicating there are few higher scores (extreme value?)"
   ]
  },
  {
   "cell_type": "markdown",
   "id": "08218a5b",
   "metadata": {},
   "source": [
    "### 3. Data prep for regression analysis "
   ]
  },
  {
   "cell_type": "code",
   "execution_count": 35,
   "id": "e84e8c57",
   "metadata": {},
   "outputs": [
    {
     "data": {
      "image/png": "[encoded data removed]",
      "text/plain": [
       "<Figure size 640x480 with 1 Axes>"
      ]
     },
     "metadata": {},
     "output_type": "display_data"
    }
   ],
   "source": [
    "# Create a scatterplot for times subset with research being the chosen variable and the total scores\n",
    "\n",
    "the_sub.plot(x = 'research', y='scores',style='o') \n",
    "plt.title('Research vs Ranking Scores - Times Ranking')  \n",
    "plt.xlabel('Research')  \n",
    "plt.ylabel('Scores')  \n",
    "plt.show()"
   ]
  },
  {
   "cell_type": "code",
   "execution_count": 36,
   "id": "ef3374a5",
   "metadata": {},
   "outputs": [
    {
     "data": {
      "image/png": "[encoded data removed]",
      "text/plain": [
       "<Figure size 640x480 with 1 Axes>"
      ]
     },
     "metadata": {},
     "output_type": "display_data"
    }
   ],
   "source": [
    "# Create a scatterplot for shanghai subset with papers published being the chosen variable and the total scores\n",
    "\n",
    "shanghai_sub.plot(x = 'papers published', y='scores',style='o') \n",
    "plt.title('Papers Published vs Ranking Scores - Shanghai Ranking')  \n",
    "plt.xlabel('Papers Published')  \n",
    "plt.ylabel('Scores')  \n",
    "plt.show()"
   ]
  },
  {
   "cell_type": "code",
   "execution_count": 37,
   "id": "13e92d5e",
   "metadata": {},
   "outputs": [
    {
     "data": {
      "image/png": "[encoded data removed]",
      "text/plain": [
       "<Figure size 640x480 with 1 Axes>"
      ]
     },
     "metadata": {},
     "output_type": "display_data"
    }
   ],
   "source": [
    "# Create a scatterplot for cwur subset with staff award being the chosen variable and the total scores\n",
    "\n",
    "cwur.plot(x = 'staff award', y='scores',style='o') \n",
    "plt.title('Staff Award vs Ranking Scores - CWUR Ranking')  \n",
    "plt.xlabel('Staff Award')  \n",
    "plt.ylabel('Scores')  \n",
    "plt.show()"
   ]
  },
  {
   "cell_type": "markdown",
   "id": "a92c41cf",
   "metadata": {},
   "source": [
    "### Hypothesis 1. The higher the score on the research indicator for Times ranking (covering research volume, income and reputation), the higher the total ranking score\n",
    "\n",
    "### Hypothesis 2. The higher the reserach output scores (i.e. more papers published in Nature and Science), the higher the ranking score. \n",
    "\n",
    "### Hypothesis 3. The higher the ranking on faculty/staff award indicator (i.e. number of faculty members who have won prestigious awards), the higher the ranking score. "
   ]
  },
  {
   "cell_type": "markdown",
   "id": "560fd13c",
   "metadata": {},
   "source": [
    "### 4. Regression analysis "
   ]
  },
  {
   "cell_type": "code",
   "execution_count": 71,
   "id": "ab58aaa3",
   "metadata": {},
   "outputs": [],
   "source": [
    "# Reshape the variables into NumPy arrays for times subset\n",
    "\n",
    "X1 = the_sub['research'].values.reshape(-1,1)\n",
    "y1 = the_sub['scores'].values.reshape(-1,1)"
   ]
  },
  {
   "cell_type": "code",
   "execution_count": 72,
   "id": "d251b604",
   "metadata": {},
   "outputs": [],
   "source": [
    "# Split data into a training set and a test set for times subset\n",
    "\n",
    "X1_train, X1_test, y1_train, y1_test = train_test_split(X1, y1, test_size=0.3, random_state=0)"
   ]
  },
  {
   "cell_type": "code",
   "execution_count": 73,
   "id": "271d95e3",
   "metadata": {},
   "outputs": [],
   "source": [
    "# Create a regression object\n",
    "\n",
    "regression = LinearRegression()  "
   ]
  },
  {
   "cell_type": "code",
   "execution_count": 74,
   "id": "65388878",
   "metadata": {},
   "outputs": [
    {
     "data": {
      "text/html": [
       "<style>#sk-container-id-5 {color: black;}#sk-container-id-5 pre{padding: 0;}#sk-container-id-5 div.sk-toggleable {background-color: white;}#sk-container-id-5 label.sk-toggleable__label {cursor: pointer;display: block;width: 100%;margin-bottom: 0;padding: 0.3em;box-sizing: border-box;text-align: center;}#sk-container-id-5 label.sk-toggleable__label-arrow:before {content: \"▸\";float: left;margin-right: 0.25em;color: #696969;}#sk-container-id-5 label.sk-toggleable__label-arrow:hover:before {color: black;}#sk-container-id-5 div.sk-estimator:hover label.sk-toggleable__label-arrow:before {color: black;}#sk-container-id-5 div.sk-toggleable__content {max-height: 0;max-width: 0;overflow: hidden;text-align: left;background-color: #f0f8ff;}#sk-container-id-5 div.sk-toggleable__content pre {margin: 0.2em;color: black;border-radius: 0.25em;background-color: #f0f8ff;}#sk-container-id-5 input.sk-toggleable__control:checked~div.sk-toggleable__content {max-height: 200px;max-width: 100%;overflow: auto;}#sk-container-id-5 input.sk-toggleable__control:checked~label.sk-toggleable__label-arrow:before {content: \"▾\";}#sk-container-id-5 div.sk-estimator input.sk-toggleable__control:checked~label.sk-toggleable__label {background-color: #d4ebff;}#sk-container-id-5 div.sk-label input.sk-toggleable__control:checked~label.sk-toggleable__label {background-color: #d4ebff;}#sk-container-id-5 input.sk-hidden--visually {border: 0;clip: rect(1px 1px 1px 1px);clip: rect(1px, 1px, 1px, 1px);height: 1px;margin: -1px;overflow: hidden;padding: 0;position: absolute;width: 1px;}#sk-container-id-5 div.sk-estimator {font-family: monospace;background-color: #f0f8ff;border: 1px dotted black;border-radius: 0.25em;box-sizing: border-box;margin-bottom: 0.5em;}#sk-container-id-5 div.sk-estimator:hover {background-color: #d4ebff;}#sk-container-id-5 div.sk-parallel-item::after {content: \"\";width: 100%;border-bottom: 1px solid gray;flex-grow: 1;}#sk-container-id-5 div.sk-label:hover label.sk-toggleable__label {background-color: #d4ebff;}#sk-container-id-5 div.sk-serial::before {content: \"\";position: absolute;border-left: 1px solid gray;box-sizing: border-box;top: 0;bottom: 0;left: 50%;z-index: 0;}#sk-container-id-5 div.sk-serial {display: flex;flex-direction: column;align-items: center;background-color: white;padding-right: 0.2em;padding-left: 0.2em;position: relative;}#sk-container-id-5 div.sk-item {position: relative;z-index: 1;}#sk-container-id-5 div.sk-parallel {display: flex;align-items: stretch;justify-content: center;background-color: white;position: relative;}#sk-container-id-5 div.sk-item::before, #sk-container-id-5 div.sk-parallel-item::before {content: \"\";position: absolute;border-left: 1px solid gray;box-sizing: border-box;top: 0;bottom: 0;left: 50%;z-index: -1;}#sk-container-id-5 div.sk-parallel-item {display: flex;flex-direction: column;z-index: 1;position: relative;background-color: white;}#sk-container-id-5 div.sk-parallel-item:first-child::after {align-self: flex-end;width: 50%;}#sk-container-id-5 div.sk-parallel-item:last-child::after {align-self: flex-start;width: 50%;}#sk-container-id-5 div.sk-parallel-item:only-child::after {width: 0;}#sk-container-id-5 div.sk-dashed-wrapped {border: 1px dashed gray;margin: 0 0.4em 0.5em 0.4em;box-sizing: border-box;padding-bottom: 0.4em;background-color: white;}#sk-container-id-5 div.sk-label label {font-family: monospace;font-weight: bold;display: inline-block;line-height: 1.2em;}#sk-container-id-5 div.sk-label-container {text-align: center;}#sk-container-id-5 div.sk-container {/* jupyter's `normalize.less` sets `[hidden] { display: none; }` but bootstrap.min.css set `[hidden] { display: none !important; }` so we also need the `!important` here to be able to override the default hidden behavior on the sphinx rendered scikit-learn.org. See: https://github.com/scikit-learn/scikit-learn/issues/21755 */display: inline-block !important;position: relative;}#sk-container-id-5 div.sk-text-repr-fallback {display: none;}</style><div id=\"sk-container-id-5\" class=\"sk-top-container\"><div class=\"sk-text-repr-fallback\"><pre>LinearRegression()</pre><b>In a Jupyter environment, please rerun this cell to show the HTML representation or trust the notebook. <br />On GitHub, the HTML representation is unable to render, please try loading this page with nbviewer.org.</b></div><div class=\"sk-container\" hidden><div class=\"sk-item\"><div class=\"sk-estimator sk-toggleable\"><input class=\"sk-toggleable__control sk-hidden--visually\" id=\"sk-estimator-id-5\" type=\"checkbox\" checked><label for=\"sk-estimator-id-5\" class=\"sk-toggleable__label sk-toggleable__label-arrow\">LinearRegression</label><div class=\"sk-toggleable__content\"><pre>LinearRegression()</pre></div></div></div></div></div>"
      ],
      "text/plain": [
       "LinearRegression()"
      ]
     },
     "execution_count": 74,
     "metadata": {},
     "output_type": "execute_result"
    }
   ],
   "source": [
    "# Fiting the regression object onto the training set for times subset\n",
    "\n",
    "regression.fit(X1_train, y1_train)"
   ]
  },
  {
   "cell_type": "code",
   "execution_count": 75,
   "id": "ea7615ab",
   "metadata": {},
   "outputs": [],
   "source": [
    "# Predict the values of y1 using X1 - times subset\n",
    "\n",
    "y1_predicted = regression.predict(X1_test)"
   ]
  },
  {
   "cell_type": "code",
   "execution_count": 76,
   "id": "d6eb2b29",
   "metadata": {},
   "outputs": [
    {
     "data": {
      "image/png": "[encoded data removed]",
      "text/plain": [
       "<Figure size 640x480 with 1 Axes>"
      ]
     },
     "metadata": {},
     "output_type": "display_data"
    }
   ],
   "source": [
    "# Create a plot that shows the regression line from the model on the test - times subset\n",
    "\n",
    "plot_test1 = plt\n",
    "plot_test1.scatter(X1_test, y1_test, color='gray', s = 15)\n",
    "plot_test1.plot(X1_test, y1_predicted, color='red', linewidth =3)\n",
    "plot_test1.title('Research Scores vs Total Ranking Scores (Test set)')\n",
    "plot_test1.xlabel('Research Scores')\n",
    "plot_test1.ylabel('Ranking Scores')\n",
    "plot_test1.show()"
   ]
  },
  {
   "cell_type": "code",
   "execution_count": 77,
   "id": "257f6c14",
   "metadata": {},
   "outputs": [],
   "source": [
    "# Create objects that contain the model summary statistic - times subset\n",
    "\n",
    "rmse_the = mean_squared_error(y1_test, y1_predicted) \n",
    "r2_the = r2_score(y1_test, y1_predicted) "
   ]
  },
  {
   "cell_type": "code",
   "execution_count": 78,
   "id": "22a68350",
   "metadata": {},
   "outputs": [
    {
     "name": "stdout",
     "output_type": "stream",
     "text": [
      "Slope: [[0.58602454]]\n",
      "Mean squared error:  29.27233578150617\n",
      "R2 score:  0.8277507929248966\n"
     ]
    }
   ],
   "source": [
    "# Print the model summary statistics - times subset\n",
    "\n",
    "print('Slope:' ,regression.coef_)\n",
    "print('Mean squared error: ', rmse_the)\n",
    "print('R2 score: ', r2_the)"
   ]
  },
  {
   "cell_type": "code",
   "execution_count": 79,
   "id": "809f2843",
   "metadata": {},
   "outputs": [
    {
     "data": {
      "text/html": [
       "<div>\n",
       "<style scoped>\n",
       "    .dataframe tbody tr th:only-of-type {\n",
       "        vertical-align: middle;\n",
       "    }\n",
       "\n",
       "    .dataframe tbody tr th {\n",
       "        vertical-align: top;\n",
       "    }\n",
       "\n",
       "    .dataframe thead th {\n",
       "        text-align: right;\n",
       "    }\n",
       "</style>\n",
       "<table border=\"1\" class=\"dataframe\">\n",
       "  <thead>\n",
       "    <tr style=\"text-align: right;\">\n",
       "      <th></th>\n",
       "      <th>Actual</th>\n",
       "      <th>Predicted</th>\n",
       "    </tr>\n",
       "  </thead>\n",
       "  <tbody>\n",
       "    <tr>\n",
       "      <th>0</th>\n",
       "      <td>46.2</td>\n",
       "      <td>55.076698</td>\n",
       "    </tr>\n",
       "    <tr>\n",
       "      <th>1</th>\n",
       "      <td>49.9</td>\n",
       "      <td>49.978285</td>\n",
       "    </tr>\n",
       "    <tr>\n",
       "      <th>2</th>\n",
       "      <td>67.0</td>\n",
       "      <td>67.031599</td>\n",
       "    </tr>\n",
       "    <tr>\n",
       "      <th>3</th>\n",
       "      <td>61.1</td>\n",
       "      <td>63.339644</td>\n",
       "    </tr>\n",
       "    <tr>\n",
       "      <th>4</th>\n",
       "      <td>77.1</td>\n",
       "      <td>73.712279</td>\n",
       "    </tr>\n",
       "    <tr>\n",
       "      <th>5</th>\n",
       "      <td>54.7</td>\n",
       "      <td>60.761136</td>\n",
       "    </tr>\n",
       "    <tr>\n",
       "      <th>6</th>\n",
       "      <td>47.2</td>\n",
       "      <td>49.919682</td>\n",
       "    </tr>\n",
       "    <tr>\n",
       "      <th>7</th>\n",
       "      <td>46.6</td>\n",
       "      <td>43.473412</td>\n",
       "    </tr>\n",
       "    <tr>\n",
       "      <th>8</th>\n",
       "      <td>57.7</td>\n",
       "      <td>53.670239</td>\n",
       "    </tr>\n",
       "    <tr>\n",
       "      <th>9</th>\n",
       "      <td>69.5</td>\n",
       "      <td>74.474111</td>\n",
       "    </tr>\n",
       "    <tr>\n",
       "      <th>10</th>\n",
       "      <td>52.1</td>\n",
       "      <td>49.450863</td>\n",
       "    </tr>\n",
       "    <tr>\n",
       "      <th>11</th>\n",
       "      <td>59.7</td>\n",
       "      <td>50.915924</td>\n",
       "    </tr>\n",
       "    <tr>\n",
       "      <th>12</th>\n",
       "      <td>53.1</td>\n",
       "      <td>67.910636</td>\n",
       "    </tr>\n",
       "    <tr>\n",
       "      <th>13</th>\n",
       "      <td>41.6</td>\n",
       "      <td>40.660495</td>\n",
       "    </tr>\n",
       "    <tr>\n",
       "      <th>14</th>\n",
       "      <td>45.8</td>\n",
       "      <td>41.832544</td>\n",
       "    </tr>\n",
       "    <tr>\n",
       "      <th>15</th>\n",
       "      <td>71.8</td>\n",
       "      <td>71.133771</td>\n",
       "    </tr>\n",
       "    <tr>\n",
       "      <th>16</th>\n",
       "      <td>48.1</td>\n",
       "      <td>45.758908</td>\n",
       "    </tr>\n",
       "    <tr>\n",
       "      <th>17</th>\n",
       "      <td>92.9</td>\n",
       "      <td>87.249446</td>\n",
       "    </tr>\n",
       "    <tr>\n",
       "      <th>18</th>\n",
       "      <td>65.2</td>\n",
       "      <td>59.823497</td>\n",
       "    </tr>\n",
       "    <tr>\n",
       "      <th>19</th>\n",
       "      <td>69.6</td>\n",
       "      <td>61.815981</td>\n",
       "    </tr>\n",
       "    <tr>\n",
       "      <th>20</th>\n",
       "      <td>49.9</td>\n",
       "      <td>57.010579</td>\n",
       "    </tr>\n",
       "    <tr>\n",
       "      <th>21</th>\n",
       "      <td>47.0</td>\n",
       "      <td>50.447104</td>\n",
       "    </tr>\n",
       "    <tr>\n",
       "      <th>22</th>\n",
       "      <td>66.4</td>\n",
       "      <td>61.112751</td>\n",
       "    </tr>\n",
       "    <tr>\n",
       "      <th>23</th>\n",
       "      <td>66.6</td>\n",
       "      <td>66.855792</td>\n",
       "    </tr>\n",
       "    <tr>\n",
       "      <th>24</th>\n",
       "      <td>46.9</td>\n",
       "      <td>51.150334</td>\n",
       "    </tr>\n",
       "    <tr>\n",
       "      <th>25</th>\n",
       "      <td>69.2</td>\n",
       "      <td>65.449333</td>\n",
       "    </tr>\n",
       "    <tr>\n",
       "      <th>26</th>\n",
       "      <td>49.0</td>\n",
       "      <td>51.912166</td>\n",
       "    </tr>\n",
       "    <tr>\n",
       "      <th>27</th>\n",
       "      <td>93.9</td>\n",
       "      <td>87.132241</td>\n",
       "    </tr>\n",
       "    <tr>\n",
       "      <th>28</th>\n",
       "      <td>62.8</td>\n",
       "      <td>69.258492</td>\n",
       "    </tr>\n",
       "    <tr>\n",
       "      <th>29</th>\n",
       "      <td>54.4</td>\n",
       "      <td>50.974526</td>\n",
       "    </tr>\n",
       "  </tbody>\n",
       "</table>\n",
       "</div>"
      ],
      "text/plain": [
       "    Actual  Predicted\n",
       "0     46.2  55.076698\n",
       "1     49.9  49.978285\n",
       "2     67.0  67.031599\n",
       "3     61.1  63.339644\n",
       "4     77.1  73.712279\n",
       "5     54.7  60.761136\n",
       "6     47.2  49.919682\n",
       "7     46.6  43.473412\n",
       "8     57.7  53.670239\n",
       "9     69.5  74.474111\n",
       "10    52.1  49.450863\n",
       "11    59.7  50.915924\n",
       "12    53.1  67.910636\n",
       "13    41.6  40.660495\n",
       "14    45.8  41.832544\n",
       "15    71.8  71.133771\n",
       "16    48.1  45.758908\n",
       "17    92.9  87.249446\n",
       "18    65.2  59.823497\n",
       "19    69.6  61.815981\n",
       "20    49.9  57.010579\n",
       "21    47.0  50.447104\n",
       "22    66.4  61.112751\n",
       "23    66.6  66.855792\n",
       "24    46.9  51.150334\n",
       "25    69.2  65.449333\n",
       "26    49.0  51.912166\n",
       "27    93.9  87.132241\n",
       "28    62.8  69.258492\n",
       "29    54.4  50.974526"
      ]
     },
     "execution_count": 79,
     "metadata": {},
     "output_type": "execute_result"
    }
   ],
   "source": [
    "# Create a dataframe comparing the actual and predicted values of y1 - times ranking subset\n",
    "\n",
    "data1 = pd.DataFrame({'Actual': y1_test.flatten(), 'Predicted': y1_predicted.flatten()})\n",
    "data1.head(30)"
   ]
  },
  {
   "cell_type": "code",
   "execution_count": 80,
   "id": "1a4a1783",
   "metadata": {},
   "outputs": [],
   "source": [
    "# Reshape the variables into NumPy arrays for shanghai subset\n",
    "\n",
    "X2 = shanghai_sub['papers published'].values.reshape(-1,1)\n",
    "y2 = shanghai_sub['scores'].values.reshape(-1,1)"
   ]
  },
  {
   "cell_type": "code",
   "execution_count": 81,
   "id": "d0a471a3",
   "metadata": {},
   "outputs": [],
   "source": [
    "# Split data into a training set and a test set for shanghai subset\n",
    "\n",
    "X2_train, X2_test, y2_train, y2_test = train_test_split(X2, y2, test_size=0.3, random_state=0)"
   ]
  },
  {
   "cell_type": "code",
   "execution_count": 82,
   "id": "bc6ebb49",
   "metadata": {},
   "outputs": [
    {
     "data": {
      "text/html": [
       "<style>#sk-container-id-6 {color: black;}#sk-container-id-6 pre{padding: 0;}#sk-container-id-6 div.sk-toggleable {background-color: white;}#sk-container-id-6 label.sk-toggleable__label {cursor: pointer;display: block;width: 100%;margin-bottom: 0;padding: 0.3em;box-sizing: border-box;text-align: center;}#sk-container-id-6 label.sk-toggleable__label-arrow:before {content: \"▸\";float: left;margin-right: 0.25em;color: #696969;}#sk-container-id-6 label.sk-toggleable__label-arrow:hover:before {color: black;}#sk-container-id-6 div.sk-estimator:hover label.sk-toggleable__label-arrow:before {color: black;}#sk-container-id-6 div.sk-toggleable__content {max-height: 0;max-width: 0;overflow: hidden;text-align: left;background-color: #f0f8ff;}#sk-container-id-6 div.sk-toggleable__content pre {margin: 0.2em;color: black;border-radius: 0.25em;background-color: #f0f8ff;}#sk-container-id-6 input.sk-toggleable__control:checked~div.sk-toggleable__content {max-height: 200px;max-width: 100%;overflow: auto;}#sk-container-id-6 input.sk-toggleable__control:checked~label.sk-toggleable__label-arrow:before {content: \"▾\";}#sk-container-id-6 div.sk-estimator input.sk-toggleable__control:checked~label.sk-toggleable__label {background-color: #d4ebff;}#sk-container-id-6 div.sk-label input.sk-toggleable__control:checked~label.sk-toggleable__label {background-color: #d4ebff;}#sk-container-id-6 input.sk-hidden--visually {border: 0;clip: rect(1px 1px 1px 1px);clip: rect(1px, 1px, 1px, 1px);height: 1px;margin: -1px;overflow: hidden;padding: 0;position: absolute;width: 1px;}#sk-container-id-6 div.sk-estimator {font-family: monospace;background-color: #f0f8ff;border: 1px dotted black;border-radius: 0.25em;box-sizing: border-box;margin-bottom: 0.5em;}#sk-container-id-6 div.sk-estimator:hover {background-color: #d4ebff;}#sk-container-id-6 div.sk-parallel-item::after {content: \"\";width: 100%;border-bottom: 1px solid gray;flex-grow: 1;}#sk-container-id-6 div.sk-label:hover label.sk-toggleable__label {background-color: #d4ebff;}#sk-container-id-6 div.sk-serial::before {content: \"\";position: absolute;border-left: 1px solid gray;box-sizing: border-box;top: 0;bottom: 0;left: 50%;z-index: 0;}#sk-container-id-6 div.sk-serial {display: flex;flex-direction: column;align-items: center;background-color: white;padding-right: 0.2em;padding-left: 0.2em;position: relative;}#sk-container-id-6 div.sk-item {position: relative;z-index: 1;}#sk-container-id-6 div.sk-parallel {display: flex;align-items: stretch;justify-content: center;background-color: white;position: relative;}#sk-container-id-6 div.sk-item::before, #sk-container-id-6 div.sk-parallel-item::before {content: \"\";position: absolute;border-left: 1px solid gray;box-sizing: border-box;top: 0;bottom: 0;left: 50%;z-index: -1;}#sk-container-id-6 div.sk-parallel-item {display: flex;flex-direction: column;z-index: 1;position: relative;background-color: white;}#sk-container-id-6 div.sk-parallel-item:first-child::after {align-self: flex-end;width: 50%;}#sk-container-id-6 div.sk-parallel-item:last-child::after {align-self: flex-start;width: 50%;}#sk-container-id-6 div.sk-parallel-item:only-child::after {width: 0;}#sk-container-id-6 div.sk-dashed-wrapped {border: 1px dashed gray;margin: 0 0.4em 0.5em 0.4em;box-sizing: border-box;padding-bottom: 0.4em;background-color: white;}#sk-container-id-6 div.sk-label label {font-family: monospace;font-weight: bold;display: inline-block;line-height: 1.2em;}#sk-container-id-6 div.sk-label-container {text-align: center;}#sk-container-id-6 div.sk-container {/* jupyter's `normalize.less` sets `[hidden] { display: none; }` but bootstrap.min.css set `[hidden] { display: none !important; }` so we also need the `!important` here to be able to override the default hidden behavior on the sphinx rendered scikit-learn.org. See: https://github.com/scikit-learn/scikit-learn/issues/21755 */display: inline-block !important;position: relative;}#sk-container-id-6 div.sk-text-repr-fallback {display: none;}</style><div id=\"sk-container-id-6\" class=\"sk-top-container\"><div class=\"sk-text-repr-fallback\"><pre>LinearRegression()</pre><b>In a Jupyter environment, please rerun this cell to show the HTML representation or trust the notebook. <br />On GitHub, the HTML representation is unable to render, please try loading this page with nbviewer.org.</b></div><div class=\"sk-container\" hidden><div class=\"sk-item\"><div class=\"sk-estimator sk-toggleable\"><input class=\"sk-toggleable__control sk-hidden--visually\" id=\"sk-estimator-id-6\" type=\"checkbox\" checked><label for=\"sk-estimator-id-6\" class=\"sk-toggleable__label sk-toggleable__label-arrow\">LinearRegression</label><div class=\"sk-toggleable__content\"><pre>LinearRegression()</pre></div></div></div></div></div>"
      ],
      "text/plain": [
       "LinearRegression()"
      ]
     },
     "execution_count": 82,
     "metadata": {},
     "output_type": "execute_result"
    }
   ],
   "source": [
    "# Fiting the regression object onto the training set for shanghai subset\n",
    "\n",
    "regression.fit(X2_train, y2_train)"
   ]
  },
  {
   "cell_type": "code",
   "execution_count": 83,
   "id": "1300622c",
   "metadata": {},
   "outputs": [],
   "source": [
    "# Predict the values of y2 using X2 - shanghai subset\n",
    "\n",
    "y2_predicted = regression.predict(X2_test)"
   ]
  },
  {
   "cell_type": "code",
   "execution_count": 84,
   "id": "c9feac95",
   "metadata": {},
   "outputs": [
    {
     "data": {
      "image/png": "[encoded data removed]",
      "text/plain": [
       "<Figure size 640x480 with 1 Axes>"
      ]
     },
     "metadata": {},
     "output_type": "display_data"
    }
   ],
   "source": [
    "# Create a plot that shows the regression line from the model on the test - shanghai subset\n",
    "\n",
    "plot_test2 = plt\n",
    "plot_test2.scatter(X2_test, y2_test, color='gray', s = 15)\n",
    "plot_test2.plot(X2_test, y2_predicted, color='red', linewidth =3)\n",
    "plot_test2.title('Papers Published Scores vs Total Ranking Scores (Test set)')\n",
    "plot_test2.xlabel('Papers Published Scores')\n",
    "plot_test2.ylabel('Ranking Scores')\n",
    "plot_test2.show()"
   ]
  },
  {
   "cell_type": "code",
   "execution_count": 85,
   "id": "a5b3132c",
   "metadata": {},
   "outputs": [],
   "source": [
    "# Create objects that contain the model summary statistic - shanghai subset\n",
    "\n",
    "rmse_shanghai = mean_squared_error(y2_test, y2_predicted) \n",
    "r2_shanghai = r2_score(y2_test, y2_predicted) "
   ]
  },
  {
   "cell_type": "code",
   "execution_count": 86,
   "id": "80e132af",
   "metadata": {},
   "outputs": [
    {
     "name": "stdout",
     "output_type": "stream",
     "text": [
      "Slope: [[0.83164813]]\n",
      "Mean squared error:  26.696270591065367\n",
      "R2 score:  0.8606044877511749\n"
     ]
    }
   ],
   "source": [
    "# Print the model summary statistics - shanghai subset\n",
    "\n",
    "print('Slope:',regression.coef_)\n",
    "print('Mean squared error: ', rmse_shanghai)\n",
    "print('R2 score: ', r2_shanghai)"
   ]
  },
  {
   "cell_type": "code",
   "execution_count": 87,
   "id": "d1074cad",
   "metadata": {},
   "outputs": [
    {
     "data": {
      "text/html": [
       "<div>\n",
       "<style scoped>\n",
       "    .dataframe tbody tr th:only-of-type {\n",
       "        vertical-align: middle;\n",
       "    }\n",
       "\n",
       "    .dataframe tbody tr th {\n",
       "        vertical-align: top;\n",
       "    }\n",
       "\n",
       "    .dataframe thead th {\n",
       "        text-align: right;\n",
       "    }\n",
       "</style>\n",
       "<table border=\"1\" class=\"dataframe\">\n",
       "  <thead>\n",
       "    <tr style=\"text-align: right;\">\n",
       "      <th></th>\n",
       "      <th>Actual</th>\n",
       "      <th>Predicted</th>\n",
       "    </tr>\n",
       "  </thead>\n",
       "  <tbody>\n",
       "    <tr>\n",
       "      <th>0</th>\n",
       "      <td>28.9</td>\n",
       "      <td>25.918089</td>\n",
       "    </tr>\n",
       "    <tr>\n",
       "      <th>1</th>\n",
       "      <td>50.4</td>\n",
       "      <td>49.952720</td>\n",
       "    </tr>\n",
       "    <tr>\n",
       "      <th>2</th>\n",
       "      <td>26.9</td>\n",
       "      <td>16.187806</td>\n",
       "    </tr>\n",
       "    <tr>\n",
       "      <th>3</th>\n",
       "      <td>25.9</td>\n",
       "      <td>21.926178</td>\n",
       "    </tr>\n",
       "    <tr>\n",
       "      <th>4</th>\n",
       "      <td>34.5</td>\n",
       "      <td>35.981032</td>\n",
       "    </tr>\n",
       "    <tr>\n",
       "      <th>5</th>\n",
       "      <td>73.1</td>\n",
       "      <td>65.338211</td>\n",
       "    </tr>\n",
       "    <tr>\n",
       "      <th>6</th>\n",
       "      <td>29.5</td>\n",
       "      <td>30.824813</td>\n",
       "    </tr>\n",
       "    <tr>\n",
       "      <th>7</th>\n",
       "      <td>24.1</td>\n",
       "      <td>25.751760</td>\n",
       "    </tr>\n",
       "    <tr>\n",
       "      <th>8</th>\n",
       "      <td>35.4</td>\n",
       "      <td>38.392811</td>\n",
       "    </tr>\n",
       "    <tr>\n",
       "      <th>9</th>\n",
       "      <td>27.2</td>\n",
       "      <td>25.918089</td>\n",
       "    </tr>\n",
       "    <tr>\n",
       "      <th>10</th>\n",
       "      <td>26.8</td>\n",
       "      <td>22.092508</td>\n",
       "    </tr>\n",
       "    <tr>\n",
       "      <th>11</th>\n",
       "      <td>51.9</td>\n",
       "      <td>51.699181</td>\n",
       "    </tr>\n",
       "    <tr>\n",
       "      <th>12</th>\n",
       "      <td>31.2</td>\n",
       "      <td>37.810658</td>\n",
       "    </tr>\n",
       "    <tr>\n",
       "      <th>13</th>\n",
       "      <td>71.9</td>\n",
       "      <td>67.167837</td>\n",
       "    </tr>\n",
       "    <tr>\n",
       "      <th>14</th>\n",
       "      <td>41.6</td>\n",
       "      <td>41.802569</td>\n",
       "    </tr>\n",
       "    <tr>\n",
       "      <th>15</th>\n",
       "      <td>24.9</td>\n",
       "      <td>24.920112</td>\n",
       "    </tr>\n",
       "    <tr>\n",
       "      <th>16</th>\n",
       "      <td>31.1</td>\n",
       "      <td>31.240637</td>\n",
       "    </tr>\n",
       "    <tr>\n",
       "      <th>17</th>\n",
       "      <td>24.4</td>\n",
       "      <td>23.173651</td>\n",
       "    </tr>\n",
       "    <tr>\n",
       "      <th>18</th>\n",
       "      <td>23.9</td>\n",
       "      <td>24.337958</td>\n",
       "    </tr>\n",
       "    <tr>\n",
       "      <th>19</th>\n",
       "      <td>42.3</td>\n",
       "      <td>44.630172</td>\n",
       "    </tr>\n",
       "    <tr>\n",
       "      <th>20</th>\n",
       "      <td>50.2</td>\n",
       "      <td>45.045996</td>\n",
       "    </tr>\n",
       "    <tr>\n",
       "      <th>21</th>\n",
       "      <td>32.0</td>\n",
       "      <td>31.240637</td>\n",
       "    </tr>\n",
       "    <tr>\n",
       "      <th>22</th>\n",
       "      <td>48.3</td>\n",
       "      <td>50.534874</td>\n",
       "    </tr>\n",
       "    <tr>\n",
       "      <th>23</th>\n",
       "      <td>25.5</td>\n",
       "      <td>31.905956</td>\n",
       "    </tr>\n",
       "    <tr>\n",
       "      <th>24</th>\n",
       "      <td>73.7</td>\n",
       "      <td>66.668848</td>\n",
       "    </tr>\n",
       "    <tr>\n",
       "      <th>25</th>\n",
       "      <td>38.1</td>\n",
       "      <td>44.962832</td>\n",
       "    </tr>\n",
       "    <tr>\n",
       "      <th>26</th>\n",
       "      <td>52.6</td>\n",
       "      <td>50.867533</td>\n",
       "    </tr>\n",
       "    <tr>\n",
       "      <th>27</th>\n",
       "      <td>40.7</td>\n",
       "      <td>48.039930</td>\n",
       "    </tr>\n",
       "    <tr>\n",
       "      <th>28</th>\n",
       "      <td>40.8</td>\n",
       "      <td>38.559141</td>\n",
       "    </tr>\n",
       "    <tr>\n",
       "      <th>29</th>\n",
       "      <td>33.4</td>\n",
       "      <td>31.822791</td>\n",
       "    </tr>\n",
       "  </tbody>\n",
       "</table>\n",
       "</div>"
      ],
      "text/plain": [
       "    Actual  Predicted\n",
       "0     28.9  25.918089\n",
       "1     50.4  49.952720\n",
       "2     26.9  16.187806\n",
       "3     25.9  21.926178\n",
       "4     34.5  35.981032\n",
       "5     73.1  65.338211\n",
       "6     29.5  30.824813\n",
       "7     24.1  25.751760\n",
       "8     35.4  38.392811\n",
       "9     27.2  25.918089\n",
       "10    26.8  22.092508\n",
       "11    51.9  51.699181\n",
       "12    31.2  37.810658\n",
       "13    71.9  67.167837\n",
       "14    41.6  41.802569\n",
       "15    24.9  24.920112\n",
       "16    31.1  31.240637\n",
       "17    24.4  23.173651\n",
       "18    23.9  24.337958\n",
       "19    42.3  44.630172\n",
       "20    50.2  45.045996\n",
       "21    32.0  31.240637\n",
       "22    48.3  50.534874\n",
       "23    25.5  31.905956\n",
       "24    73.7  66.668848\n",
       "25    38.1  44.962832\n",
       "26    52.6  50.867533\n",
       "27    40.7  48.039930\n",
       "28    40.8  38.559141\n",
       "29    33.4  31.822791"
      ]
     },
     "execution_count": 87,
     "metadata": {},
     "output_type": "execute_result"
    }
   ],
   "source": [
    "# Create a dataframe comparing the actual and predicted values of y2 - shanghai ranking subset\n",
    "\n",
    "data2 = pd.DataFrame({'Actual': y2_test.flatten(), 'Predicted': y2_predicted.flatten()})\n",
    "data2.head(30)"
   ]
  },
  {
   "cell_type": "code",
   "execution_count": 88,
   "id": "861bb213",
   "metadata": {},
   "outputs": [],
   "source": [
    "# Reshape the variables into NumPy arrays for cwur subset\n",
    "\n",
    "X3 = cwur['staff award'].values.reshape(-1,1)\n",
    "y3 = cwur['scores'].values.reshape(-1,1)"
   ]
  },
  {
   "cell_type": "code",
   "execution_count": 89,
   "id": "c2798590",
   "metadata": {},
   "outputs": [],
   "source": [
    "# Split data into a training set and a test set for cwur subset\n",
    "\n",
    "X3_train, X3_test, y3_train, y3_test = train_test_split(X3, y3, test_size=0.3, random_state=0)"
   ]
  },
  {
   "cell_type": "code",
   "execution_count": 90,
   "id": "82e1ee11",
   "metadata": {},
   "outputs": [
    {
     "data": {
      "text/html": [
       "<style>#sk-container-id-7 {color: black;}#sk-container-id-7 pre{padding: 0;}#sk-container-id-7 div.sk-toggleable {background-color: white;}#sk-container-id-7 label.sk-toggleable__label {cursor: pointer;display: block;width: 100%;margin-bottom: 0;padding: 0.3em;box-sizing: border-box;text-align: center;}#sk-container-id-7 label.sk-toggleable__label-arrow:before {content: \"▸\";float: left;margin-right: 0.25em;color: #696969;}#sk-container-id-7 label.sk-toggleable__label-arrow:hover:before {color: black;}#sk-container-id-7 div.sk-estimator:hover label.sk-toggleable__label-arrow:before {color: black;}#sk-container-id-7 div.sk-toggleable__content {max-height: 0;max-width: 0;overflow: hidden;text-align: left;background-color: #f0f8ff;}#sk-container-id-7 div.sk-toggleable__content pre {margin: 0.2em;color: black;border-radius: 0.25em;background-color: #f0f8ff;}#sk-container-id-7 input.sk-toggleable__control:checked~div.sk-toggleable__content {max-height: 200px;max-width: 100%;overflow: auto;}#sk-container-id-7 input.sk-toggleable__control:checked~label.sk-toggleable__label-arrow:before {content: \"▾\";}#sk-container-id-7 div.sk-estimator input.sk-toggleable__control:checked~label.sk-toggleable__label {background-color: #d4ebff;}#sk-container-id-7 div.sk-label input.sk-toggleable__control:checked~label.sk-toggleable__label {background-color: #d4ebff;}#sk-container-id-7 input.sk-hidden--visually {border: 0;clip: rect(1px 1px 1px 1px);clip: rect(1px, 1px, 1px, 1px);height: 1px;margin: -1px;overflow: hidden;padding: 0;position: absolute;width: 1px;}#sk-container-id-7 div.sk-estimator {font-family: monospace;background-color: #f0f8ff;border: 1px dotted black;border-radius: 0.25em;box-sizing: border-box;margin-bottom: 0.5em;}#sk-container-id-7 div.sk-estimator:hover {background-color: #d4ebff;}#sk-container-id-7 div.sk-parallel-item::after {content: \"\";width: 100%;border-bottom: 1px solid gray;flex-grow: 1;}#sk-container-id-7 div.sk-label:hover label.sk-toggleable__label {background-color: #d4ebff;}#sk-container-id-7 div.sk-serial::before {content: \"\";position: absolute;border-left: 1px solid gray;box-sizing: border-box;top: 0;bottom: 0;left: 50%;z-index: 0;}#sk-container-id-7 div.sk-serial {display: flex;flex-direction: column;align-items: center;background-color: white;padding-right: 0.2em;padding-left: 0.2em;position: relative;}#sk-container-id-7 div.sk-item {position: relative;z-index: 1;}#sk-container-id-7 div.sk-parallel {display: flex;align-items: stretch;justify-content: center;background-color: white;position: relative;}#sk-container-id-7 div.sk-item::before, #sk-container-id-7 div.sk-parallel-item::before {content: \"\";position: absolute;border-left: 1px solid gray;box-sizing: border-box;top: 0;bottom: 0;left: 50%;z-index: -1;}#sk-container-id-7 div.sk-parallel-item {display: flex;flex-direction: column;z-index: 1;position: relative;background-color: white;}#sk-container-id-7 div.sk-parallel-item:first-child::after {align-self: flex-end;width: 50%;}#sk-container-id-7 div.sk-parallel-item:last-child::after {align-self: flex-start;width: 50%;}#sk-container-id-7 div.sk-parallel-item:only-child::after {width: 0;}#sk-container-id-7 div.sk-dashed-wrapped {border: 1px dashed gray;margin: 0 0.4em 0.5em 0.4em;box-sizing: border-box;padding-bottom: 0.4em;background-color: white;}#sk-container-id-7 div.sk-label label {font-family: monospace;font-weight: bold;display: inline-block;line-height: 1.2em;}#sk-container-id-7 div.sk-label-container {text-align: center;}#sk-container-id-7 div.sk-container {/* jupyter's `normalize.less` sets `[hidden] { display: none; }` but bootstrap.min.css set `[hidden] { display: none !important; }` so we also need the `!important` here to be able to override the default hidden behavior on the sphinx rendered scikit-learn.org. See: https://github.com/scikit-learn/scikit-learn/issues/21755 */display: inline-block !important;position: relative;}#sk-container-id-7 div.sk-text-repr-fallback {display: none;}</style><div id=\"sk-container-id-7\" class=\"sk-top-container\"><div class=\"sk-text-repr-fallback\"><pre>LinearRegression()</pre><b>In a Jupyter environment, please rerun this cell to show the HTML representation or trust the notebook. <br />On GitHub, the HTML representation is unable to render, please try loading this page with nbviewer.org.</b></div><div class=\"sk-container\" hidden><div class=\"sk-item\"><div class=\"sk-estimator sk-toggleable\"><input class=\"sk-toggleable__control sk-hidden--visually\" id=\"sk-estimator-id-7\" type=\"checkbox\" checked><label for=\"sk-estimator-id-7\" class=\"sk-toggleable__label sk-toggleable__label-arrow\">LinearRegression</label><div class=\"sk-toggleable__content\"><pre>LinearRegression()</pre></div></div></div></div></div>"
      ],
      "text/plain": [
       "LinearRegression()"
      ]
     },
     "execution_count": 90,
     "metadata": {},
     "output_type": "execute_result"
    }
   ],
   "source": [
    "# Fiting the regression object onto the training set for cwur subset\n",
    "\n",
    "regression.fit(X3_train, y3_train)"
   ]
  },
  {
   "cell_type": "code",
   "execution_count": 91,
   "id": "50b76830",
   "metadata": {},
   "outputs": [],
   "source": [
    "# Predict the values of y3 using X3 - cwur subset\n",
    "\n",
    "y3_predicted = regression.predict(X3_test)"
   ]
  },
  {
   "cell_type": "code",
   "execution_count": 53,
   "id": "73f0fb23",
   "metadata": {},
   "outputs": [
    {
     "data": {
      "image/png": "[encoded data removed]",
      "text/plain": [
       "<Figure size 640x480 with 1 Axes>"
      ]
     },
     "metadata": {},
     "output_type": "display_data"
    }
   ],
   "source": [
    "# Create a plot that shows the regression line from the model on the test - cwur subset \n",
    "plot_test3 = plt\n",
    "plot_test3.scatter(X3_test, y3_test, color='gray', s = 15)\n",
    "plot_test3.plot(X3_test, y3_predicted, color='red', linewidth =3)\n",
    "plot_test3.title('Staff Award Ranking vs Total Ranking Scores (Test set)')\n",
    "plot_test3.xlabel('Staff Award Ranking')\n",
    "plot_test3.ylabel('Ranking Scores')\n",
    "plot_test3.show()"
   ]
  },
  {
   "cell_type": "code",
   "execution_count": 92,
   "id": "f3ecaf3b",
   "metadata": {},
   "outputs": [],
   "source": [
    "# Create objects that contain the model summary statistic - cwur subset\n",
    "\n",
    "rmse_cwur = mean_squared_error(y3_test, y3_predicted) \n",
    "r2_cwur = r2_score(y3_test, y3_predicted) "
   ]
  },
  {
   "cell_type": "code",
   "execution_count": 93,
   "id": "864e1933",
   "metadata": {},
   "outputs": [
    {
     "name": "stdout",
     "output_type": "stream",
     "text": [
      "Slope: [[-0.03865305]]\n",
      "Mean squared error:  36.27374429188503\n",
      "R2 score:  0.3634203685147095\n"
     ]
    }
   ],
   "source": [
    "# Print the model summary statistics - cwur subset\n",
    "\n",
    "print('Slope:' ,regression.coef_)\n",
    "print('Mean squared error: ', rmse_cwur)\n",
    "print('R2 score: ', r2_cwur)"
   ]
  },
  {
   "cell_type": "code",
   "execution_count": 94,
   "id": "55aedf31",
   "metadata": {},
   "outputs": [
    {
     "data": {
      "text/html": [
       "<div>\n",
       "<style scoped>\n",
       "    .dataframe tbody tr th:only-of-type {\n",
       "        vertical-align: middle;\n",
       "    }\n",
       "\n",
       "    .dataframe tbody tr th {\n",
       "        vertical-align: top;\n",
       "    }\n",
       "\n",
       "    .dataframe thead th {\n",
       "        text-align: right;\n",
       "    }\n",
       "</style>\n",
       "<table border=\"1\" class=\"dataframe\">\n",
       "  <thead>\n",
       "    <tr style=\"text-align: right;\">\n",
       "      <th></th>\n",
       "      <th>Actual</th>\n",
       "      <th>Predicted</th>\n",
       "    </tr>\n",
       "  </thead>\n",
       "  <tbody>\n",
       "    <tr>\n",
       "      <th>0</th>\n",
       "      <td>49.70</td>\n",
       "      <td>44.266369</td>\n",
       "    </tr>\n",
       "    <tr>\n",
       "      <th>1</th>\n",
       "      <td>48.23</td>\n",
       "      <td>53.465795</td>\n",
       "    </tr>\n",
       "    <tr>\n",
       "      <th>2</th>\n",
       "      <td>51.46</td>\n",
       "      <td>57.099182</td>\n",
       "    </tr>\n",
       "    <tr>\n",
       "      <th>3</th>\n",
       "      <td>54.19</td>\n",
       "      <td>54.084244</td>\n",
       "    </tr>\n",
       "    <tr>\n",
       "      <th>4</th>\n",
       "      <td>45.01</td>\n",
       "      <td>44.730205</td>\n",
       "    </tr>\n",
       "    <tr>\n",
       "      <th>5</th>\n",
       "      <td>47.59</td>\n",
       "      <td>55.321141</td>\n",
       "    </tr>\n",
       "    <tr>\n",
       "      <th>6</th>\n",
       "      <td>45.74</td>\n",
       "      <td>44.730205</td>\n",
       "    </tr>\n",
       "    <tr>\n",
       "      <th>7</th>\n",
       "      <td>47.96</td>\n",
       "      <td>46.121715</td>\n",
       "    </tr>\n",
       "    <tr>\n",
       "      <th>8</th>\n",
       "      <td>46.58</td>\n",
       "      <td>45.812491</td>\n",
       "    </tr>\n",
       "    <tr>\n",
       "      <th>9</th>\n",
       "      <td>44.44</td>\n",
       "      <td>44.730205</td>\n",
       "    </tr>\n",
       "    <tr>\n",
       "      <th>10</th>\n",
       "      <td>45.88</td>\n",
       "      <td>44.730205</td>\n",
       "    </tr>\n",
       "    <tr>\n",
       "      <th>11</th>\n",
       "      <td>44.06</td>\n",
       "      <td>44.266369</td>\n",
       "    </tr>\n",
       "    <tr>\n",
       "      <th>12</th>\n",
       "      <td>44.69</td>\n",
       "      <td>49.291265</td>\n",
       "    </tr>\n",
       "    <tr>\n",
       "      <th>13</th>\n",
       "      <td>45.35</td>\n",
       "      <td>44.730205</td>\n",
       "    </tr>\n",
       "    <tr>\n",
       "      <th>14</th>\n",
       "      <td>44.36</td>\n",
       "      <td>44.730205</td>\n",
       "    </tr>\n",
       "    <tr>\n",
       "      <th>15</th>\n",
       "      <td>45.92</td>\n",
       "      <td>44.266369</td>\n",
       "    </tr>\n",
       "    <tr>\n",
       "      <th>16</th>\n",
       "      <td>44.04</td>\n",
       "      <td>44.266369</td>\n",
       "    </tr>\n",
       "    <tr>\n",
       "      <th>17</th>\n",
       "      <td>44.72</td>\n",
       "      <td>44.730205</td>\n",
       "    </tr>\n",
       "    <tr>\n",
       "      <th>18</th>\n",
       "      <td>44.12</td>\n",
       "      <td>44.266369</td>\n",
       "    </tr>\n",
       "    <tr>\n",
       "      <th>19</th>\n",
       "      <td>44.26</td>\n",
       "      <td>44.730205</td>\n",
       "    </tr>\n",
       "    <tr>\n",
       "      <th>20</th>\n",
       "      <td>44.39</td>\n",
       "      <td>49.059347</td>\n",
       "    </tr>\n",
       "    <tr>\n",
       "      <th>21</th>\n",
       "      <td>45.04</td>\n",
       "      <td>45.387307</td>\n",
       "    </tr>\n",
       "    <tr>\n",
       "      <th>22</th>\n",
       "      <td>48.35</td>\n",
       "      <td>44.730205</td>\n",
       "    </tr>\n",
       "    <tr>\n",
       "      <th>23</th>\n",
       "      <td>44.13</td>\n",
       "      <td>44.266369</td>\n",
       "    </tr>\n",
       "    <tr>\n",
       "      <th>24</th>\n",
       "      <td>44.25</td>\n",
       "      <td>51.803714</td>\n",
       "    </tr>\n",
       "    <tr>\n",
       "      <th>25</th>\n",
       "      <td>44.03</td>\n",
       "      <td>44.266369</td>\n",
       "    </tr>\n",
       "    <tr>\n",
       "      <th>26</th>\n",
       "      <td>44.74</td>\n",
       "      <td>44.730205</td>\n",
       "    </tr>\n",
       "    <tr>\n",
       "      <th>27</th>\n",
       "      <td>44.96</td>\n",
       "      <td>44.266369</td>\n",
       "    </tr>\n",
       "    <tr>\n",
       "      <th>28</th>\n",
       "      <td>45.99</td>\n",
       "      <td>46.894776</td>\n",
       "    </tr>\n",
       "    <tr>\n",
       "      <th>29</th>\n",
       "      <td>50.37</td>\n",
       "      <td>48.208980</td>\n",
       "    </tr>\n",
       "  </tbody>\n",
       "</table>\n",
       "</div>"
      ],
      "text/plain": [
       "    Actual  Predicted\n",
       "0    49.70  44.266369\n",
       "1    48.23  53.465795\n",
       "2    51.46  57.099182\n",
       "3    54.19  54.084244\n",
       "4    45.01  44.730205\n",
       "5    47.59  55.321141\n",
       "6    45.74  44.730205\n",
       "7    47.96  46.121715\n",
       "8    46.58  45.812491\n",
       "9    44.44  44.730205\n",
       "10   45.88  44.730205\n",
       "11   44.06  44.266369\n",
       "12   44.69  49.291265\n",
       "13   45.35  44.730205\n",
       "14   44.36  44.730205\n",
       "15   45.92  44.266369\n",
       "16   44.04  44.266369\n",
       "17   44.72  44.730205\n",
       "18   44.12  44.266369\n",
       "19   44.26  44.730205\n",
       "20   44.39  49.059347\n",
       "21   45.04  45.387307\n",
       "22   48.35  44.730205\n",
       "23   44.13  44.266369\n",
       "24   44.25  51.803714\n",
       "25   44.03  44.266369\n",
       "26   44.74  44.730205\n",
       "27   44.96  44.266369\n",
       "28   45.99  46.894776\n",
       "29   50.37  48.208980"
      ]
     },
     "execution_count": 94,
     "metadata": {},
     "output_type": "execute_result"
    }
   ],
   "source": [
    "# Create a dataframe comparing the actual and predicted values of y3 - cwur ranking subset\n",
    "\n",
    "data3 = pd.DataFrame({'Actual': y3_test.flatten(), 'Predicted': y3_predicted.flatten()})\n",
    "data3.head(30)"
   ]
  },
  {
   "cell_type": "markdown",
   "id": "d83dd150",
   "metadata": {},
   "source": [
    "### From the above regressions analysis, it seems that shanghai ranking has the best fit line to the data. The datapoints are mostly clustered together. Although there are still cleary a lot of data points that's away from the line. \n",
    "\n",
    "### On the other hand, the data points for times ranking are more spread out, so there are more data points away from the line. Although in general higher research scores indicates higher ranking scores. \n",
    "\n",
    "### Lastly, the line for cwur ranking doesn't seem to fit the data point that well. This is taking into consideration of the skewed distribution, as can be seen, most data are gathered between 40 to 60 ranking score range, with a small group of them scattered on the high end (i.e. high staff award ranking and very high ranking score). It is unclear why this is the pattern.\n",
    "\n",
    "### The model performance statistics are consistent with this observations. The MSE and R2 scores are quite similar for Times ranking (29.27, 0.83) and Shanghai ranking (26.70, 0.86), although the positive slope are higher for Shanghai ranking (0.83) compared to Times ranking (0.58). The strength of the relationships are strong for both models. That said, looking at the predicted versus actual results, there still seems to be quite some differences. \n",
    "\n",
    "### For the CWUR ranking, the slope is slightly negative (-0.03), meaning as staff award ranking decreases, the total ranking score will increase slightly. The MSE (36.27) is bigger compared to the other two models, meaning the predicted data points are farther away from the line, and the R2 is only moderate (0.36). When looking at the predicted and actual result, there seems to be a smaller difference than expected. Again this is possibly due to the skewed distribution - because most of the data points are gathered between 40 - 60 total scores range, a few data points from 60 - 100 total scores range reduce the accuracy of the prediction. \n",
    "\n",
    "### In general, although there's 83% to 86% confidence in the Times ranking and Shanghai ranking models, there are still some data points that cannot be explained by the prediction model. This is understandable as there could be multiple factors that contribute to the ranking of a university. Furthermore, it also depends on the criterias being used for the ranking system. We can improve the prediction model by including more dimensions. That said, we have to be weary of bias. Specifically, from previous exercise, analysis shows that the research variable for Times ranking and 'papers published' for Shanghai ranking have a relationship with other variables. For example, research variable is closely correlated to teaching variable (coefficient 0.89) in the Times ranking. If both variables are included in the model, then that probably doesn't add much to the overall prediction model. "
   ]
  },
  {
   "cell_type": "code",
   "execution_count": null,
   "id": "b651786d",
   "metadata": {},
   "outputs": [],
   "source": []
  },
  {
   "cell_type": "code",
   "execution_count": null,
   "id": "1448b760",
   "metadata": {},
   "outputs": [],
   "source": []
  },
  {
   "cell_type": "code",
   "execution_count": null,
   "id": "5c850774",
   "metadata": {},
   "outputs": [],
   "source": []
  },
  {
   "cell_type": "code",
   "execution_count": null,
   "id": "74b6534d",
   "metadata": {},
   "outputs": [],
   "source": []
  }
 ],
 "metadata": {
  "kernelspec": {
   "display_name": "Python 3 (ipykernel)",
   "language": "python",
   "name": "python3"
  },
  "language_info": {
   "codemirror_mode": {
    "name": "ipython",
    "version": 3
   },
   "file_extension": ".py",
   "mimetype": "text/x-python",
   "name": "python",
   "nbconvert_exporter": "python",
   "pygments_lexer": "ipython3",
   "version": "3.11.5"
  }
 },
 "nbformat": 4,
 "nbformat_minor": 5
}
