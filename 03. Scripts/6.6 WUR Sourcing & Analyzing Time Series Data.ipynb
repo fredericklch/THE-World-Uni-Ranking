{
 "cells": [
  {
   "cell_type": "markdown",
   "id": "0bb68d02",
   "metadata": {},
   "source": [
    "## 6.6 Sourcing & Analyzing Time Series Data\n",
    "\n",
    "### 1. Importing libraries and data\n",
    "\n",
    "### 2. Subsetting, wrangling, and cleaning data\n",
    "\n",
    "### 3. Decomposition\n",
    "\n",
    "### 4. Dickey-Fuller test for stationarity"
   ]
  },
  {
   "cell_type": "markdown",
   "id": "97c854c5",
   "metadata": {},
   "source": [
    "### 1. Importing libraries and Data"
   ]
  },
  {
   "cell_type": "code",
   "execution_count": 1,
   "id": "9da5f6b8",
   "metadata": {},
   "outputs": [],
   "source": [
    "import pandas as pd\n",
    "import numpy as np\n",
    "import seaborn as sns\n",
    "import matplotlib\n",
    "import matplotlib.pyplot as plt\n",
    "import statsmodels.api as sm\n",
    "import os\n",
    "import warnings "
   ]
  },
  {
   "cell_type": "code",
   "execution_count": 2,
   "id": "e1e937c3",
   "metadata": {},
   "outputs": [],
   "source": [
    "# Ensure the graphs are displayed within the notebook without the need to \"call\" them specifically.\n",
    "\n",
    "%matplotlib inline"
   ]
  },
  {
   "cell_type": "code",
   "execution_count": 3,
   "id": "3a68ca13",
   "metadata": {},
   "outputs": [],
   "source": [
    "# Create path\n",
    "\n",
    "path = r'C:\\Users\\Frederick\\Documents\\17-12-2023 World University Rankings'"
   ]
  },
  {
   "cell_type": "code",
   "execution_count": 4,
   "id": "15103026",
   "metadata": {},
   "outputs": [],
   "source": [
    "# Import data for shanghai ranking\n",
    "\n",
    "shanghai = pd.read_csv(os.path.join(path, '02. Data', 'Prepared Data', 'shanghai.csv'), index_col = False)"
   ]
  },
  {
   "cell_type": "markdown",
   "id": "4fdb85de",
   "metadata": {},
   "source": [
    "### 2. Subsetting, wrangling and cleaning data"
   ]
  },
  {
   "cell_type": "markdown",
   "id": "b1f56d12",
   "metadata": {},
   "source": [
    "### For this exercise, I will use the shanghai ranking dataset. The main reason being it covers across more years than Times ranking and CWUR ranking (i.e. from 2005 to 2015). Specifically, I will look at the average ranking scores for United States, as it has the most universities in the world ranking dataset (i.e. total of 584 records!).  "
   ]
  },
  {
   "cell_type": "code",
   "execution_count": 5,
   "id": "1f27dcd7",
   "metadata": {},
   "outputs": [
    {
     "data": {
      "text/plain": [
       "Index(['Unnamed: 0', 'world_rank', 'university_name', 'country',\n",
       "       'national_rank', 'total_score', 'alumni', 'award', 'cited_research',\n",
       "       'articles', 'science_citation', 'capita', 'year'],\n",
       "      dtype='object')"
      ]
     },
     "execution_count": 5,
     "metadata": {},
     "output_type": "execute_result"
    }
   ],
   "source": [
    "shanghai.columns"
   ]
  },
  {
   "cell_type": "code",
   "execution_count": 6,
   "id": "e81c5d03",
   "metadata": {},
   "outputs": [
    {
     "data": {
      "text/plain": [
       "(4896, 13)"
      ]
     },
     "execution_count": 6,
     "metadata": {},
     "output_type": "execute_result"
    }
   ],
   "source": [
    "shanghai.shape"
   ]
  },
  {
   "cell_type": "code",
   "execution_count": 7,
   "id": "94f8e204",
   "metadata": {},
   "outputs": [
    {
     "data": {
      "text/plain": [
       "Unnamed: 0             0\n",
       "world_rank             0\n",
       "university_name        0\n",
       "country             1490\n",
       "national_rank          0\n",
       "total_score         3795\n",
       "alumni                 0\n",
       "award                  1\n",
       "cited_research         1\n",
       "articles              21\n",
       "science_citation       1\n",
       "capita                 1\n",
       "year                   0\n",
       "dtype: int64"
      ]
     },
     "execution_count": 7,
     "metadata": {},
     "output_type": "execute_result"
    }
   ],
   "source": [
    "# Checking for missing values in shanghai ranking dataframe\n",
    "\n",
    "shanghai.isnull().sum() # All missing values in total score will be removed. "
   ]
  },
  {
   "cell_type": "code",
   "execution_count": 8,
   "id": "394ce232",
   "metadata": {},
   "outputs": [],
   "source": [
    "# Creating a subset in without missing total scores in shanghai dataframe \n",
    "\n",
    "shanghai_sub = shanghai[shanghai['total_score'].isnull() == False]"
   ]
  },
  {
   "cell_type": "code",
   "execution_count": 9,
   "id": "9906eaef",
   "metadata": {},
   "outputs": [
    {
     "data": {
      "text/plain": [
       "(1101, 13)"
      ]
     },
     "execution_count": 9,
     "metadata": {},
     "output_type": "execute_result"
    }
   ],
   "source": [
    "# Checking output of the times subset\n",
    "\n",
    "shanghai_sub.shape # Count is correct after removing missing total scores"
   ]
  },
  {
   "cell_type": "code",
   "execution_count": 10,
   "id": "bf36e272",
   "metadata": {},
   "outputs": [],
   "source": [
    "# Create a subset for Shanghai ranking with only total score, country and year \n",
    "\n",
    "shanghai_sub2 = shanghai_sub[['country', 'total_score', 'year']]"
   ]
  },
  {
   "cell_type": "code",
   "execution_count": 11,
   "id": "8d10d862",
   "metadata": {},
   "outputs": [
    {
     "data": {
      "text/html": [
       "<div>\n",
       "<style scoped>\n",
       "    .dataframe tbody tr th:only-of-type {\n",
       "        vertical-align: middle;\n",
       "    }\n",
       "\n",
       "    .dataframe tbody tr th {\n",
       "        vertical-align: top;\n",
       "    }\n",
       "\n",
       "    .dataframe thead th {\n",
       "        text-align: right;\n",
       "    }\n",
       "</style>\n",
       "<table border=\"1\" class=\"dataframe\">\n",
       "  <thead>\n",
       "    <tr style=\"text-align: right;\">\n",
       "      <th></th>\n",
       "      <th>country</th>\n",
       "      <th>total_score</th>\n",
       "      <th>year</th>\n",
       "    </tr>\n",
       "  </thead>\n",
       "  <tbody>\n",
       "    <tr>\n",
       "      <th>0</th>\n",
       "      <td>United States of America</td>\n",
       "      <td>100.0</td>\n",
       "      <td>2005</td>\n",
       "    </tr>\n",
       "    <tr>\n",
       "      <th>1</th>\n",
       "      <td>United Kingdom</td>\n",
       "      <td>73.6</td>\n",
       "      <td>2005</td>\n",
       "    </tr>\n",
       "    <tr>\n",
       "      <th>2</th>\n",
       "      <td>United States of America</td>\n",
       "      <td>73.4</td>\n",
       "      <td>2005</td>\n",
       "    </tr>\n",
       "    <tr>\n",
       "      <th>3</th>\n",
       "      <td>United States of America</td>\n",
       "      <td>72.8</td>\n",
       "      <td>2005</td>\n",
       "    </tr>\n",
       "    <tr>\n",
       "      <th>4</th>\n",
       "      <td>United States of America</td>\n",
       "      <td>70.1</td>\n",
       "      <td>2005</td>\n",
       "    </tr>\n",
       "  </tbody>\n",
       "</table>\n",
       "</div>"
      ],
      "text/plain": [
       "                    country  total_score  year\n",
       "0  United States of America        100.0  2005\n",
       "1            United Kingdom         73.6  2005\n",
       "2  United States of America         73.4  2005\n",
       "3  United States of America         72.8  2005\n",
       "4  United States of America         70.1  2005"
      ]
     },
     "execution_count": 11,
     "metadata": {},
     "output_type": "execute_result"
    }
   ],
   "source": [
    "shanghai_sub2.head()"
   ]
  },
  {
   "cell_type": "code",
   "execution_count": 12,
   "id": "8d4be328",
   "metadata": {},
   "outputs": [
    {
     "data": {
      "text/plain": [
       "country\n",
       "United States of America    584\n",
       "United Kingdom              111\n",
       "Germany                      53\n",
       "Japan                        50\n",
       "Canada                       44\n",
       "France                       39\n",
       "Switzerland                  39\n",
       "Australia                    37\n",
       "Sweden                       37\n",
       "Netherlands                  27\n",
       "Denmark                      19\n",
       "Israel                       17\n",
       "Russia                       11\n",
       "Norway                       11\n",
       "Finland                      11\n",
       "Belgium                       8\n",
       "Italy                         2\n",
       "Austria                       1\n",
       "Name: count, dtype: int64"
      ]
     },
     "execution_count": 12,
     "metadata": {},
     "output_type": "execute_result"
    }
   ],
   "source": [
    "# Checking country counts in the ranking dataset\n",
    "\n",
    "shanghai_sub2['country'].value_counts(dropna = False)"
   ]
  },
  {
   "cell_type": "markdown",
   "id": "11174ad2",
   "metadata": {},
   "source": [
    "### United States has the most universities in the shanghai world university ranking. Hence I will select United States and look at the average ranking scores across the years."
   ]
  },
  {
   "cell_type": "code",
   "execution_count": 13,
   "id": "f82aa89b",
   "metadata": {},
   "outputs": [],
   "source": [
    "# Create a subset that only contains united states\n",
    "\n",
    "shanghai_us = shanghai_sub2.loc[shanghai_sub2['country'] == 'United States of America']"
   ]
  },
  {
   "cell_type": "code",
   "execution_count": 14,
   "id": "1b3fe329",
   "metadata": {},
   "outputs": [
    {
     "data": {
      "text/html": [
       "<div>\n",
       "<style scoped>\n",
       "    .dataframe tbody tr th:only-of-type {\n",
       "        vertical-align: middle;\n",
       "    }\n",
       "\n",
       "    .dataframe tbody tr th {\n",
       "        vertical-align: top;\n",
       "    }\n",
       "\n",
       "    .dataframe thead th {\n",
       "        text-align: right;\n",
       "    }\n",
       "</style>\n",
       "<table border=\"1\" class=\"dataframe\">\n",
       "  <thead>\n",
       "    <tr style=\"text-align: right;\">\n",
       "      <th></th>\n",
       "      <th>country</th>\n",
       "      <th>total_score</th>\n",
       "      <th>year</th>\n",
       "    </tr>\n",
       "  </thead>\n",
       "  <tbody>\n",
       "    <tr>\n",
       "      <th>0</th>\n",
       "      <td>United States of America</td>\n",
       "      <td>100.0</td>\n",
       "      <td>2005</td>\n",
       "    </tr>\n",
       "    <tr>\n",
       "      <th>2</th>\n",
       "      <td>United States of America</td>\n",
       "      <td>73.4</td>\n",
       "      <td>2005</td>\n",
       "    </tr>\n",
       "    <tr>\n",
       "      <th>3</th>\n",
       "      <td>United States of America</td>\n",
       "      <td>72.8</td>\n",
       "      <td>2005</td>\n",
       "    </tr>\n",
       "    <tr>\n",
       "      <th>4</th>\n",
       "      <td>United States of America</td>\n",
       "      <td>70.1</td>\n",
       "      <td>2005</td>\n",
       "    </tr>\n",
       "    <tr>\n",
       "      <th>5</th>\n",
       "      <td>United States of America</td>\n",
       "      <td>67.1</td>\n",
       "      <td>2005</td>\n",
       "    </tr>\n",
       "    <tr>\n",
       "      <th>6</th>\n",
       "      <td>United States of America</td>\n",
       "      <td>62.3</td>\n",
       "      <td>2005</td>\n",
       "    </tr>\n",
       "    <tr>\n",
       "      <th>7</th>\n",
       "      <td>United States of America</td>\n",
       "      <td>60.9</td>\n",
       "      <td>2005</td>\n",
       "    </tr>\n",
       "    <tr>\n",
       "      <th>8</th>\n",
       "      <td>United States of America</td>\n",
       "      <td>60.1</td>\n",
       "      <td>2005</td>\n",
       "    </tr>\n",
       "    <tr>\n",
       "      <th>10</th>\n",
       "      <td>United States of America</td>\n",
       "      <td>56.9</td>\n",
       "      <td>2005</td>\n",
       "    </tr>\n",
       "    <tr>\n",
       "      <th>11</th>\n",
       "      <td>United States of America</td>\n",
       "      <td>54.6</td>\n",
       "      <td>2005</td>\n",
       "    </tr>\n",
       "  </tbody>\n",
       "</table>\n",
       "</div>"
      ],
      "text/plain": [
       "                     country  total_score  year\n",
       "0   United States of America        100.0  2005\n",
       "2   United States of America         73.4  2005\n",
       "3   United States of America         72.8  2005\n",
       "4   United States of America         70.1  2005\n",
       "5   United States of America         67.1  2005\n",
       "6   United States of America         62.3  2005\n",
       "7   United States of America         60.9  2005\n",
       "8   United States of America         60.1  2005\n",
       "10  United States of America         56.9  2005\n",
       "11  United States of America         54.6  2005"
      ]
     },
     "execution_count": 14,
     "metadata": {},
     "output_type": "execute_result"
    }
   ],
   "source": [
    "shanghai_us.head(10)"
   ]
  },
  {
   "cell_type": "code",
   "execution_count": 15,
   "id": "f66ca1c7",
   "metadata": {},
   "outputs": [
    {
     "name": "stderr",
     "output_type": "stream",
     "text": [
      "C:\\Users\\Frederick\\AppData\\Local\\Temp\\ipykernel_19568\\550320193.py:3: FutureWarning: The provided callable <function mean at 0x000002A185B7C860> is currently using SeriesGroupBy.mean. In a future version of pandas, the provided callable will be used directly. To keep current behavior pass the string \"mean\" instead.\n",
      "  shanghai_us['average score'] = shanghai_us.groupby(['year'])['total_score'].transform(np.mean)\n",
      "C:\\Users\\Frederick\\AppData\\Local\\Temp\\ipykernel_19568\\550320193.py:3: SettingWithCopyWarning: \n",
      "A value is trying to be set on a copy of a slice from a DataFrame.\n",
      "Try using .loc[row_indexer,col_indexer] = value instead\n",
      "\n",
      "See the caveats in the documentation: https://pandas.pydata.org/pandas-docs/stable/user_guide/indexing.html#returning-a-view-versus-a-copy\n",
      "  shanghai_us['average score'] = shanghai_us.groupby(['year'])['total_score'].transform(np.mean)\n"
     ]
    }
   ],
   "source": [
    "# Finding average ranking scores for US by year\n",
    "\n",
    "shanghai_us['average score'] = shanghai_us.groupby(['year'])['total_score'].transform(np.mean)"
   ]
  },
  {
   "cell_type": "code",
   "execution_count": 16,
   "id": "e76fa8d7",
   "metadata": {},
   "outputs": [
    {
     "data": {
      "text/html": [
       "<div>\n",
       "<style scoped>\n",
       "    .dataframe tbody tr th:only-of-type {\n",
       "        vertical-align: middle;\n",
       "    }\n",
       "\n",
       "    .dataframe tbody tr th {\n",
       "        vertical-align: top;\n",
       "    }\n",
       "\n",
       "    .dataframe thead th {\n",
       "        text-align: right;\n",
       "    }\n",
       "</style>\n",
       "<table border=\"1\" class=\"dataframe\">\n",
       "  <thead>\n",
       "    <tr style=\"text-align: right;\">\n",
       "      <th></th>\n",
       "      <th>country</th>\n",
       "      <th>total_score</th>\n",
       "      <th>year</th>\n",
       "      <th>average score</th>\n",
       "    </tr>\n",
       "  </thead>\n",
       "  <tbody>\n",
       "    <tr>\n",
       "      <th>0</th>\n",
       "      <td>United States of America</td>\n",
       "      <td>100.0</td>\n",
       "      <td>2005</td>\n",
       "      <td>41.135849</td>\n",
       "    </tr>\n",
       "    <tr>\n",
       "      <th>2</th>\n",
       "      <td>United States of America</td>\n",
       "      <td>73.4</td>\n",
       "      <td>2005</td>\n",
       "      <td>41.135849</td>\n",
       "    </tr>\n",
       "    <tr>\n",
       "      <th>3</th>\n",
       "      <td>United States of America</td>\n",
       "      <td>72.8</td>\n",
       "      <td>2005</td>\n",
       "      <td>41.135849</td>\n",
       "    </tr>\n",
       "    <tr>\n",
       "      <th>4</th>\n",
       "      <td>United States of America</td>\n",
       "      <td>70.1</td>\n",
       "      <td>2005</td>\n",
       "      <td>41.135849</td>\n",
       "    </tr>\n",
       "    <tr>\n",
       "      <th>5</th>\n",
       "      <td>United States of America</td>\n",
       "      <td>67.1</td>\n",
       "      <td>2005</td>\n",
       "      <td>41.135849</td>\n",
       "    </tr>\n",
       "    <tr>\n",
       "      <th>...</th>\n",
       "      <td>...</td>\n",
       "      <td>...</td>\n",
       "      <td>...</td>\n",
       "      <td>...</td>\n",
       "    </tr>\n",
       "    <tr>\n",
       "      <th>4488</th>\n",
       "      <td>United States of America</td>\n",
       "      <td>24.5</td>\n",
       "      <td>2015</td>\n",
       "      <td>40.009804</td>\n",
       "    </tr>\n",
       "    <tr>\n",
       "      <th>4489</th>\n",
       "      <td>United States of America</td>\n",
       "      <td>24.5</td>\n",
       "      <td>2015</td>\n",
       "      <td>40.009804</td>\n",
       "    </tr>\n",
       "    <tr>\n",
       "      <th>4490</th>\n",
       "      <td>United States of America</td>\n",
       "      <td>24.5</td>\n",
       "      <td>2015</td>\n",
       "      <td>40.009804</td>\n",
       "    </tr>\n",
       "    <tr>\n",
       "      <th>4494</th>\n",
       "      <td>United States of America</td>\n",
       "      <td>24.0</td>\n",
       "      <td>2015</td>\n",
       "      <td>40.009804</td>\n",
       "    </tr>\n",
       "    <tr>\n",
       "      <th>4495</th>\n",
       "      <td>United States of America</td>\n",
       "      <td>23.9</td>\n",
       "      <td>2015</td>\n",
       "      <td>40.009804</td>\n",
       "    </tr>\n",
       "  </tbody>\n",
       "</table>\n",
       "<p>584 rows × 4 columns</p>\n",
       "</div>"
      ],
      "text/plain": [
       "                       country  total_score  year  average score\n",
       "0     United States of America        100.0  2005      41.135849\n",
       "2     United States of America         73.4  2005      41.135849\n",
       "3     United States of America         72.8  2005      41.135849\n",
       "4     United States of America         70.1  2005      41.135849\n",
       "5     United States of America         67.1  2005      41.135849\n",
       "...                        ...          ...   ...            ...\n",
       "4488  United States of America         24.5  2015      40.009804\n",
       "4489  United States of America         24.5  2015      40.009804\n",
       "4490  United States of America         24.5  2015      40.009804\n",
       "4494  United States of America         24.0  2015      40.009804\n",
       "4495  United States of America         23.9  2015      40.009804\n",
       "\n",
       "[584 rows x 4 columns]"
      ]
     },
     "execution_count": 16,
     "metadata": {},
     "output_type": "execute_result"
    }
   ],
   "source": [
    "# Checking output\n",
    "\n",
    "shanghai_us"
   ]
  },
  {
   "cell_type": "code",
   "execution_count": 17,
   "id": "43a2fa2f",
   "metadata": {},
   "outputs": [],
   "source": [
    "# Create a subset that only contains year and average score\n",
    "\n",
    "shanghai_us2 = shanghai_us[['year','average score']]"
   ]
  },
  {
   "cell_type": "code",
   "execution_count": 18,
   "id": "922b4cab",
   "metadata": {},
   "outputs": [],
   "source": [
    "# Dropping duplicates on year\n",
    "\n",
    "shanghai_us3 = shanghai_us2.drop_duplicates()"
   ]
  },
  {
   "cell_type": "code",
   "execution_count": 19,
   "id": "1a60f489",
   "metadata": {},
   "outputs": [
    {
     "data": {
      "text/html": [
       "<div>\n",
       "<style scoped>\n",
       "    .dataframe tbody tr th:only-of-type {\n",
       "        vertical-align: middle;\n",
       "    }\n",
       "\n",
       "    .dataframe tbody tr th {\n",
       "        vertical-align: top;\n",
       "    }\n",
       "\n",
       "    .dataframe thead th {\n",
       "        text-align: right;\n",
       "    }\n",
       "</style>\n",
       "<table border=\"1\" class=\"dataframe\">\n",
       "  <thead>\n",
       "    <tr style=\"text-align: right;\">\n",
       "      <th></th>\n",
       "      <th>year</th>\n",
       "      <th>average score</th>\n",
       "    </tr>\n",
       "  </thead>\n",
       "  <tbody>\n",
       "    <tr>\n",
       "      <th>0</th>\n",
       "      <td>2005</td>\n",
       "      <td>41.135849</td>\n",
       "    </tr>\n",
       "    <tr>\n",
       "      <th>500</th>\n",
       "      <td>2006</td>\n",
       "      <td>40.562963</td>\n",
       "    </tr>\n",
       "    <tr>\n",
       "      <th>1000</th>\n",
       "      <td>2007</td>\n",
       "      <td>40.544444</td>\n",
       "    </tr>\n",
       "    <tr>\n",
       "      <th>1510</th>\n",
       "      <td>2008</td>\n",
       "      <td>40.462963</td>\n",
       "    </tr>\n",
       "    <tr>\n",
       "      <th>2013</th>\n",
       "      <td>2009</td>\n",
       "      <td>39.978182</td>\n",
       "    </tr>\n",
       "    <tr>\n",
       "      <th>2514</th>\n",
       "      <td>2010</td>\n",
       "      <td>40.257407</td>\n",
       "    </tr>\n",
       "    <tr>\n",
       "      <th>3014</th>\n",
       "      <td>2011</td>\n",
       "      <td>40.675472</td>\n",
       "    </tr>\n",
       "    <tr>\n",
       "      <th>3514</th>\n",
       "      <td>2012</td>\n",
       "      <td>40.588679</td>\n",
       "    </tr>\n",
       "    <tr>\n",
       "      <th>3798</th>\n",
       "      <td>2013</td>\n",
       "      <td>41.037255</td>\n",
       "    </tr>\n",
       "    <tr>\n",
       "      <th>3896</th>\n",
       "      <td>2014</td>\n",
       "      <td>40.194231</td>\n",
       "    </tr>\n",
       "    <tr>\n",
       "      <th>4396</th>\n",
       "      <td>2015</td>\n",
       "      <td>40.009804</td>\n",
       "    </tr>\n",
       "  </tbody>\n",
       "</table>\n",
       "</div>"
      ],
      "text/plain": [
       "      year  average score\n",
       "0     2005      41.135849\n",
       "500   2006      40.562963\n",
       "1000  2007      40.544444\n",
       "1510  2008      40.462963\n",
       "2013  2009      39.978182\n",
       "2514  2010      40.257407\n",
       "3014  2011      40.675472\n",
       "3514  2012      40.588679\n",
       "3798  2013      41.037255\n",
       "3896  2014      40.194231\n",
       "4396  2015      40.009804"
      ]
     },
     "execution_count": 19,
     "metadata": {},
     "output_type": "execute_result"
    }
   ],
   "source": [
    "# Checking output\n",
    "\n",
    "shanghai_us3"
   ]
  },
  {
   "cell_type": "code",
   "execution_count": 20,
   "id": "2d66a139",
   "metadata": {},
   "outputs": [
    {
     "name": "stderr",
     "output_type": "stream",
     "text": [
      "C:\\Users\\Frederick\\AppData\\Local\\Temp\\ipykernel_19568\\3372281661.py:5: SettingWithCopyWarning: \n",
      "A value is trying to be set on a copy of a slice from a DataFrame.\n",
      "Try using .loc[row_indexer,col_indexer] = value instead\n",
      "\n",
      "See the caveats in the documentation: https://pandas.pydata.org/pandas-docs/stable/user_guide/indexing.html#returning-a-view-versus-a-copy\n",
      "  shanghai_us3['Year'] = pd.to_datetime(shanghai_us3['year'], format='%Y') # Create a datetime column from \"Date.\"\"\n"
     ]
    },
    {
     "data": {
      "text/html": [
       "<div>\n",
       "<style scoped>\n",
       "    .dataframe tbody tr th:only-of-type {\n",
       "        vertical-align: middle;\n",
       "    }\n",
       "\n",
       "    .dataframe tbody tr th {\n",
       "        vertical-align: top;\n",
       "    }\n",
       "\n",
       "    .dataframe thead th {\n",
       "        text-align: right;\n",
       "    }\n",
       "</style>\n",
       "<table border=\"1\" class=\"dataframe\">\n",
       "  <thead>\n",
       "    <tr style=\"text-align: right;\">\n",
       "      <th></th>\n",
       "      <th>average score</th>\n",
       "    </tr>\n",
       "    <tr>\n",
       "      <th>Year</th>\n",
       "      <th></th>\n",
       "    </tr>\n",
       "  </thead>\n",
       "  <tbody>\n",
       "    <tr>\n",
       "      <th>2005-01-01</th>\n",
       "      <td>41.135849</td>\n",
       "    </tr>\n",
       "    <tr>\n",
       "      <th>2006-01-01</th>\n",
       "      <td>40.562963</td>\n",
       "    </tr>\n",
       "    <tr>\n",
       "      <th>2007-01-01</th>\n",
       "      <td>40.544444</td>\n",
       "    </tr>\n",
       "    <tr>\n",
       "      <th>2008-01-01</th>\n",
       "      <td>40.462963</td>\n",
       "    </tr>\n",
       "    <tr>\n",
       "      <th>2009-01-01</th>\n",
       "      <td>39.978182</td>\n",
       "    </tr>\n",
       "  </tbody>\n",
       "</table>\n",
       "</div>"
      ],
      "text/plain": [
       "            average score\n",
       "Year                     \n",
       "2005-01-01      41.135849\n",
       "2006-01-01      40.562963\n",
       "2007-01-01      40.544444\n",
       "2008-01-01      40.462963\n",
       "2009-01-01      39.978182"
      ]
     },
     "execution_count": 20,
     "metadata": {},
     "output_type": "execute_result"
    }
   ],
   "source": [
    "# Set the \"year\" column as the index\n",
    "\n",
    "from datetime import datetime\n",
    "\n",
    "shanghai_us3['Year'] = pd.to_datetime(shanghai_us3['year'], format='%Y') # Create a datetime column from \"Date.\"\"\n",
    "shanghai_us3 = shanghai_us3.set_index('Year') # Set the datetime as the index of the dataframe.\n",
    "shanghai_us3.drop(['year'], axis=1, inplace=True) # Drop the \"Date\" column.\n",
    "shanghai_us3.head()"
   ]
  },
  {
   "cell_type": "code",
   "execution_count": 21,
   "id": "9fe3065b",
   "metadata": {},
   "outputs": [
    {
     "data": {
      "text/plain": [
       "[<matplotlib.lines.Line2D at 0x2a18b3481d0>]"
      ]
     },
     "execution_count": 21,
     "metadata": {},
     "output_type": "execute_result"
    },
    {
     "data": {
      "image/png": "[encoded data removed]",
      "text/plain": [
       "<Figure size 1500x500 with 1 Axes>"
      ]
     },
     "metadata": {},
     "output_type": "display_data"
    }
   ],
   "source": [
    "# Plot the line chart\n",
    "\n",
    "plt.figure(figsize=(15,5), dpi=100)\n",
    "plt.plot(shanghai_us3)"
   ]
  },
  {
   "cell_type": "markdown",
   "id": "f82268af",
   "metadata": {},
   "source": [
    " ### 3. Decomposition"
   ]
  },
  {
   "cell_type": "code",
   "execution_count": 22,
   "id": "8eaa2196",
   "metadata": {},
   "outputs": [],
   "source": [
    "# Decompose the US average ranking time series using an additive model\n",
    "\n",
    "decomposition = sm.tsa.seasonal_decompose(shanghai_us3, model='additive')"
   ]
  },
  {
   "cell_type": "code",
   "execution_count": 23,
   "id": "c2020435",
   "metadata": {},
   "outputs": [],
   "source": [
    "from pylab import rcParams \n",
    "\n",
    "rcParams['figure.figsize'] = 18, 7"
   ]
  },
  {
   "cell_type": "code",
   "execution_count": 24,
   "id": "d85929e5",
   "metadata": {},
   "outputs": [
    {
     "data": {
      "image/png": "[encoded data removed]",
      "text/plain": [
       "<Figure size 1800x700 with 4 Axes>"
      ]
     },
     "metadata": {},
     "output_type": "display_data"
    }
   ],
   "source": [
    "# Plot the separate time series components\n",
    "\n",
    "decomposition.plot()\n",
    "plt.show()"
   ]
  },
  {
   "cell_type": "markdown",
   "id": "b52d6ae2",
   "metadata": {},
   "source": [
    "### From the above decomposition chart, it appears that the underlying trend is the same as the level. Furthermore, there are no seasonality or noise as well. This is not surprising because the world universties ranking score can be cosidered as stable, it won't have big fluctuations year by year. Therefore, there hasn't been a need to smooth the data in this case.  "
   ]
  },
  {
   "cell_type": "markdown",
   "id": "fcfcf8b1",
   "metadata": {},
   "source": [
    " ### 3. Dickey-Fuller test for stationairty"
   ]
  },
  {
   "cell_type": "code",
   "execution_count": 27,
   "id": "33237ada",
   "metadata": {},
   "outputs": [
    {
     "name": "stdout",
     "output_type": "stream",
     "text": [
      "Dickey-Fuller Stationarity test:\n",
      "Test Statistic                -4.162094\n",
      "p-value                        0.000763\n",
      "Number of Lags Used            3.000000\n",
      "Number of Observations Used    7.000000\n",
      "Critical Value (1%)           -4.938690\n",
      "Critical Value (5%)           -3.477583\n",
      "Critical Value (10%)          -2.843868\n",
      "dtype: float64\n"
     ]
    }
   ],
   "source": [
    "# Import the adfuller() function\n",
    "\n",
    "from statsmodels.tsa.stattools import adfuller\n",
    "\n",
    "# Define the function and perform the Dickey-Fuller test\n",
    "\n",
    "def dickey_fuller(timeseries):\n",
    "    print ('Dickey-Fuller Stationarity test:')\n",
    "    test = adfuller(timeseries, autolag='AIC')\n",
    "    result = pd.Series(test[0:4], index=['Test Statistic','p-value','Number of Lags Used','Number of Observations Used'])\n",
    "    for key,value in test[4].items():\n",
    "       result['Critical Value (%s)'%key] = value\n",
    "    print (result)\n",
    "\n",
    "# Apply the test using the function on the time series\n",
    "\n",
    "dickey_fuller(shanghai_us3['average score'])"
   ]
  },
  {
   "cell_type": "markdown",
   "id": "3e90e741",
   "metadata": {},
   "source": [
    "### Based on the Dickey-Fuller test, the test statistis is -4.162094 and at a significance level of 5 percent (i.e. Cricical value 5%), the value is -3.477583. This means that the test statistics is smaller than the criical value at 5%, and therefore I can reject the null hypothesis that there is a unit root, and conclude that the data is stationary."
   ]
  },
  {
   "cell_type": "code",
   "execution_count": 26,
   "id": "bc3be13f",
   "metadata": {},
   "outputs": [
    {
     "data": {
      "image/png": "[encoded data removed]",
      "text/plain": [
       "<Figure size 1800x700 with 1 Axes>"
      ]
     },
     "metadata": {},
     "output_type": "display_data"
    }
   ],
   "source": [
    "# Check for autocorrelations\n",
    "\n",
    "from statsmodels.graphics.tsaplots import plot_acf, plot_pacf # Here, you import the autocorrelation and partial correlation plots\n",
    "\n",
    "plot_acf(shanghai_us3)\n",
    "plt.show()"
   ]
  },
  {
   "cell_type": "markdown",
   "id": "b6d09869",
   "metadata": {},
   "source": [
    "### The above graph shows that there's no lines that go above the blude edge/confidence level. This means that the lags are not correlated with each other, and the  dataset for average US ranking score is likely non-stationary. This, in conjunction with the Dickey-Fuller test, means that no futher stationairizing on the data is required"
   ]
  },
  {
   "cell_type": "code",
   "execution_count": null,
   "id": "d99041d3",
   "metadata": {},
   "outputs": [],
   "source": []
  },
  {
   "cell_type": "code",
   "execution_count": null,
   "id": "3894e95f",
   "metadata": {},
   "outputs": [],
   "source": []
  }
 ],
 "metadata": {
  "kernelspec": {
   "display_name": "Python 3 (ipykernel)",
   "language": "python",
   "name": "python3"
  },
  "language_info": {
   "codemirror_mode": {
    "name": "ipython",
    "version": 3
   },
   "file_extension": ".py",
   "mimetype": "text/x-python",
   "name": "python",
   "nbconvert_exporter": "python",
   "pygments_lexer": "ipython3",
   "version": "3.11.5"
  }
 },
 "nbformat": 4,
 "nbformat_minor": 5
}
